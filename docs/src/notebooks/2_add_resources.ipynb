{
 "cells": [
  {
   "cell_type": "markdown",
   "id": "55b5595c-fec9-41c3-b756-b95cd0c52048",
   "metadata": {},
   "source": [
    "# Build network using user-defined resources\n",
    "\n",
    "This notebook explores how to add other individual resources from Omnipath or other public databases."
   ]
  },
  {
   "cell_type": "code",
   "execution_count": 35,
   "id": "3c317de8",
   "metadata": {},
   "outputs": [
    {
     "name": "stdout",
     "output_type": "stream",
     "text": [
      "CPU times: user 14 µs, sys: 1 µs, total: 15 µs\n",
      "Wall time: 16.9 µs\n"
     ]
    }
   ],
   "source": [
    "%%time\n",
    "from neko.core.network import Network\n",
    "from neko._visual.visualize_network import NetworkVisualizer\n",
    "from neko.inputs import Universe, signor\n",
    "import omnipath as op\n",
    "import pandas as pd"
   ]
  },
  {
   "cell_type": "markdown",
   "id": "2a250d98",
   "metadata": {},
   "source": [
    "## 1. Adding a resource already in OmniPath"
   ]
  },
  {
   "cell_type": "markdown",
   "id": "0e6b2c56-80cd-459b-984a-fa235c1a0085",
   "metadata": {},
   "source": [
    "### 1A. Specify the interaction resource of interest"
   ]
  },
  {
   "cell_type": "code",
   "execution_count": 36,
   "id": "829de33a",
   "metadata": {},
   "outputs": [],
   "source": [
    "collectri = op.interactions.CollecTRI.get()"
   ]
  },
  {
   "cell_type": "markdown",
   "id": "fc585a3c",
   "metadata": {},
   "source": [
    "### 1B. Add new resource to the Resources object"
   ]
  },
  {
   "cell_type": "code",
   "execution_count": 37,
   "id": "91ae2cef",
   "metadata": {},
   "outputs": [],
   "source": [
    "resources = Universe()\n",
    "resources.add_resources(collectri, name = 'collectri')\n",
    "resources.build()"
   ]
  },
  {
   "cell_type": "code",
   "execution_count": 38,
   "id": "695822e0-4bb7-4c4d-a951-0ca5125b0b1d",
   "metadata": {},
   "outputs": [
    {
     "data": {
      "text/html": [
       "<div>\n",
       "<style scoped>\n",
       "    .dataframe tbody tr th:only-of-type {\n",
       "        vertical-align: middle;\n",
       "    }\n",
       "\n",
       "    .dataframe tbody tr th {\n",
       "        vertical-align: top;\n",
       "    }\n",
       "\n",
       "    .dataframe thead th {\n",
       "        text-align: right;\n",
       "    }\n",
       "</style>\n",
       "<table border=\"1\" class=\"dataframe\">\n",
       "  <thead>\n",
       "    <tr style=\"text-align: right;\">\n",
       "      <th></th>\n",
       "      <th>source</th>\n",
       "      <th>target</th>\n",
       "      <th>is_directed</th>\n",
       "      <th>is_stimulation</th>\n",
       "      <th>is_inhibition</th>\n",
       "      <th>consensus_direction</th>\n",
       "      <th>consensus_stimulation</th>\n",
       "      <th>consensus_inhibition</th>\n",
       "      <th>curation_effort</th>\n",
       "      <th>references</th>\n",
       "      <th>sources</th>\n",
       "      <th>n_sources</th>\n",
       "      <th>n_primary_sources</th>\n",
       "      <th>n_references</th>\n",
       "      <th>references_stripped</th>\n",
       "      <th>form_complex</th>\n",
       "    </tr>\n",
       "  </thead>\n",
       "  <tbody>\n",
       "    <tr>\n",
       "      <th>0</th>\n",
       "      <td>P01106</td>\n",
       "      <td>O14746</td>\n",
       "      <td>False</td>\n",
       "      <td>True</td>\n",
       "      <td>False</td>\n",
       "      <td>True</td>\n",
       "      <td>True</td>\n",
       "      <td>False</td>\n",
       "      <td>82</td>\n",
       "      <td>CollecTRI:10022128;CollecTRI:10491298;CollecTR...</td>\n",
       "      <td>CollecTRI;DoRothEA-A_CollecTRI;ExTRI_CollecTRI...</td>\n",
       "      <td>8</td>\n",
       "      <td>1</td>\n",
       "      <td>74</td>\n",
       "      <td>10022128;10491298;10606235;10637317;10723141;1...</td>\n",
       "      <td>False</td>\n",
       "    </tr>\n",
       "    <tr>\n",
       "      <th>1</th>\n",
       "      <td>P17947</td>\n",
       "      <td>P02818</td>\n",
       "      <td>False</td>\n",
       "      <td>True</td>\n",
       "      <td>False</td>\n",
       "      <td>True</td>\n",
       "      <td>True</td>\n",
       "      <td>False</td>\n",
       "      <td>3</td>\n",
       "      <td>CollecTRI:10022617</td>\n",
       "      <td>CollecTRI;ExTRI_CollecTRI</td>\n",
       "      <td>2</td>\n",
       "      <td>1</td>\n",
       "      <td>1</td>\n",
       "      <td>10022617</td>\n",
       "      <td>False</td>\n",
       "    </tr>\n",
       "    <tr>\n",
       "      <th>2</th>\n",
       "      <td>COMPLEX:P15407_P17275</td>\n",
       "      <td>P05412</td>\n",
       "      <td>False</td>\n",
       "      <td>True</td>\n",
       "      <td>False</td>\n",
       "      <td>True</td>\n",
       "      <td>True</td>\n",
       "      <td>False</td>\n",
       "      <td>53</td>\n",
       "      <td>CollecTRI:10022869;CollecTRI:10037172;CollecTR...</td>\n",
       "      <td>CollecTRI;ExTRI_CollecTRI;NTNU.Curated_CollecT...</td>\n",
       "      <td>4</td>\n",
       "      <td>1</td>\n",
       "      <td>49</td>\n",
       "      <td>10022869;10037172;10208431;10366004;11281649;1...</td>\n",
       "      <td>False</td>\n",
       "    </tr>\n",
       "    <tr>\n",
       "      <th>3</th>\n",
       "      <td>COMPLEX:P01100_P05412</td>\n",
       "      <td>P05412</td>\n",
       "      <td>False</td>\n",
       "      <td>True</td>\n",
       "      <td>False</td>\n",
       "      <td>True</td>\n",
       "      <td>True</td>\n",
       "      <td>False</td>\n",
       "      <td>53</td>\n",
       "      <td>CollecTRI:10022869;CollecTRI:10037172;CollecTR...</td>\n",
       "      <td>CollecTRI;ExTRI_CollecTRI;NTNU.Curated_CollecT...</td>\n",
       "      <td>4</td>\n",
       "      <td>1</td>\n",
       "      <td>49</td>\n",
       "      <td>10022869;10037172;10208431;10366004;11281649;1...</td>\n",
       "      <td>False</td>\n",
       "    </tr>\n",
       "    <tr>\n",
       "      <th>4</th>\n",
       "      <td>COMPLEX:P01100_P17275</td>\n",
       "      <td>P05412</td>\n",
       "      <td>False</td>\n",
       "      <td>True</td>\n",
       "      <td>False</td>\n",
       "      <td>True</td>\n",
       "      <td>True</td>\n",
       "      <td>False</td>\n",
       "      <td>53</td>\n",
       "      <td>CollecTRI:10022869;CollecTRI:10037172;CollecTR...</td>\n",
       "      <td>CollecTRI;ExTRI_CollecTRI;NTNU.Curated_CollecT...</td>\n",
       "      <td>4</td>\n",
       "      <td>1</td>\n",
       "      <td>49</td>\n",
       "      <td>10022869;10037172;10208431;10366004;11281649;1...</td>\n",
       "      <td>False</td>\n",
       "    </tr>\n",
       "    <tr>\n",
       "      <th>...</th>\n",
       "      <td>...</td>\n",
       "      <td>...</td>\n",
       "      <td>...</td>\n",
       "      <td>...</td>\n",
       "      <td>...</td>\n",
       "      <td>...</td>\n",
       "      <td>...</td>\n",
       "      <td>...</td>\n",
       "      <td>...</td>\n",
       "      <td>...</td>\n",
       "      <td>...</td>\n",
       "      <td>...</td>\n",
       "      <td>...</td>\n",
       "      <td>...</td>\n",
       "      <td>...</td>\n",
       "      <td>...</td>\n",
       "    </tr>\n",
       "    <tr>\n",
       "      <th>64490</th>\n",
       "      <td>Q01196</td>\n",
       "      <td>Q13094</td>\n",
       "      <td>False</td>\n",
       "      <td>True</td>\n",
       "      <td>False</td>\n",
       "      <td>True</td>\n",
       "      <td>True</td>\n",
       "      <td>False</td>\n",
       "      <td>3</td>\n",
       "      <td>CollecTRI:20019798</td>\n",
       "      <td>CollecTRI;DoRothEA-A_CollecTRI</td>\n",
       "      <td>2</td>\n",
       "      <td>1</td>\n",
       "      <td>1</td>\n",
       "      <td>20019798</td>\n",
       "      <td>False</td>\n",
       "    </tr>\n",
       "    <tr>\n",
       "      <th>64491</th>\n",
       "      <td>Q01196</td>\n",
       "      <td>Q6MZQ0</td>\n",
       "      <td>False</td>\n",
       "      <td>True</td>\n",
       "      <td>False</td>\n",
       "      <td>True</td>\n",
       "      <td>True</td>\n",
       "      <td>False</td>\n",
       "      <td>3</td>\n",
       "      <td>CollecTRI:20019798</td>\n",
       "      <td>CollecTRI;DoRothEA-A_CollecTRI</td>\n",
       "      <td>2</td>\n",
       "      <td>1</td>\n",
       "      <td>1</td>\n",
       "      <td>20019798</td>\n",
       "      <td>False</td>\n",
       "    </tr>\n",
       "    <tr>\n",
       "      <th>64492</th>\n",
       "      <td>Q15672</td>\n",
       "      <td>P08151</td>\n",
       "      <td>False</td>\n",
       "      <td>True</td>\n",
       "      <td>False</td>\n",
       "      <td>True</td>\n",
       "      <td>True</td>\n",
       "      <td>False</td>\n",
       "      <td>3</td>\n",
       "      <td>CollecTRI:11948912</td>\n",
       "      <td>CollecTRI;DoRothEA-A_CollecTRI</td>\n",
       "      <td>2</td>\n",
       "      <td>1</td>\n",
       "      <td>1</td>\n",
       "      <td>11948912</td>\n",
       "      <td>False</td>\n",
       "    </tr>\n",
       "    <tr>\n",
       "      <th>64493</th>\n",
       "      <td>P22415</td>\n",
       "      <td>Q5SRE5</td>\n",
       "      <td>False</td>\n",
       "      <td>True</td>\n",
       "      <td>False</td>\n",
       "      <td>True</td>\n",
       "      <td>True</td>\n",
       "      <td>False</td>\n",
       "      <td>3</td>\n",
       "      <td>CollecTRI:22951020</td>\n",
       "      <td>CollecTRI;DoRothEA-A_CollecTRI</td>\n",
       "      <td>2</td>\n",
       "      <td>1</td>\n",
       "      <td>1</td>\n",
       "      <td>22951020</td>\n",
       "      <td>False</td>\n",
       "    </tr>\n",
       "    <tr>\n",
       "      <th>64494</th>\n",
       "      <td>Q9UQR1</td>\n",
       "      <td>Q5VYX0</td>\n",
       "      <td>False</td>\n",
       "      <td>True</td>\n",
       "      <td>False</td>\n",
       "      <td>True</td>\n",
       "      <td>True</td>\n",
       "      <td>False</td>\n",
       "      <td>3</td>\n",
       "      <td>CollecTRI:25295465</td>\n",
       "      <td>CollecTRI;DoRothEA-A_CollecTRI</td>\n",
       "      <td>2</td>\n",
       "      <td>1</td>\n",
       "      <td>1</td>\n",
       "      <td>25295465</td>\n",
       "      <td>False</td>\n",
       "    </tr>\n",
       "  </tbody>\n",
       "</table>\n",
       "<p>64495 rows × 16 columns</p>\n",
       "</div>"
      ],
      "text/plain": [
       "                      source  target  is_directed  is_stimulation  \\\n",
       "0                     P01106  O14746        False            True   \n",
       "1                     P17947  P02818        False            True   \n",
       "2      COMPLEX:P15407_P17275  P05412        False            True   \n",
       "3      COMPLEX:P01100_P05412  P05412        False            True   \n",
       "4      COMPLEX:P01100_P17275  P05412        False            True   \n",
       "...                      ...     ...          ...             ...   \n",
       "64490                 Q01196  Q13094        False            True   \n",
       "64491                 Q01196  Q6MZQ0        False            True   \n",
       "64492                 Q15672  P08151        False            True   \n",
       "64493                 P22415  Q5SRE5        False            True   \n",
       "64494                 Q9UQR1  Q5VYX0        False            True   \n",
       "\n",
       "       is_inhibition  consensus_direction  consensus_stimulation  \\\n",
       "0              False                 True                   True   \n",
       "1              False                 True                   True   \n",
       "2              False                 True                   True   \n",
       "3              False                 True                   True   \n",
       "4              False                 True                   True   \n",
       "...              ...                  ...                    ...   \n",
       "64490          False                 True                   True   \n",
       "64491          False                 True                   True   \n",
       "64492          False                 True                   True   \n",
       "64493          False                 True                   True   \n",
       "64494          False                 True                   True   \n",
       "\n",
       "       consensus_inhibition  curation_effort  \\\n",
       "0                     False               82   \n",
       "1                     False                3   \n",
       "2                     False               53   \n",
       "3                     False               53   \n",
       "4                     False               53   \n",
       "...                     ...              ...   \n",
       "64490                 False                3   \n",
       "64491                 False                3   \n",
       "64492                 False                3   \n",
       "64493                 False                3   \n",
       "64494                 False                3   \n",
       "\n",
       "                                              references  \\\n",
       "0      CollecTRI:10022128;CollecTRI:10491298;CollecTR...   \n",
       "1                                     CollecTRI:10022617   \n",
       "2      CollecTRI:10022869;CollecTRI:10037172;CollecTR...   \n",
       "3      CollecTRI:10022869;CollecTRI:10037172;CollecTR...   \n",
       "4      CollecTRI:10022869;CollecTRI:10037172;CollecTR...   \n",
       "...                                                  ...   \n",
       "64490                                 CollecTRI:20019798   \n",
       "64491                                 CollecTRI:20019798   \n",
       "64492                                 CollecTRI:11948912   \n",
       "64493                                 CollecTRI:22951020   \n",
       "64494                                 CollecTRI:25295465   \n",
       "\n",
       "                                                 sources  n_sources  \\\n",
       "0      CollecTRI;DoRothEA-A_CollecTRI;ExTRI_CollecTRI...          8   \n",
       "1                              CollecTRI;ExTRI_CollecTRI          2   \n",
       "2      CollecTRI;ExTRI_CollecTRI;NTNU.Curated_CollecT...          4   \n",
       "3      CollecTRI;ExTRI_CollecTRI;NTNU.Curated_CollecT...          4   \n",
       "4      CollecTRI;ExTRI_CollecTRI;NTNU.Curated_CollecT...          4   \n",
       "...                                                  ...        ...   \n",
       "64490                     CollecTRI;DoRothEA-A_CollecTRI          2   \n",
       "64491                     CollecTRI;DoRothEA-A_CollecTRI          2   \n",
       "64492                     CollecTRI;DoRothEA-A_CollecTRI          2   \n",
       "64493                     CollecTRI;DoRothEA-A_CollecTRI          2   \n",
       "64494                     CollecTRI;DoRothEA-A_CollecTRI          2   \n",
       "\n",
       "       n_primary_sources n_references  \\\n",
       "0                      1           74   \n",
       "1                      1            1   \n",
       "2                      1           49   \n",
       "3                      1           49   \n",
       "4                      1           49   \n",
       "...                  ...          ...   \n",
       "64490                  1            1   \n",
       "64491                  1            1   \n",
       "64492                  1            1   \n",
       "64493                  1            1   \n",
       "64494                  1            1   \n",
       "\n",
       "                                     references_stripped  form_complex  \n",
       "0      10022128;10491298;10606235;10637317;10723141;1...         False  \n",
       "1                                               10022617         False  \n",
       "2      10022869;10037172;10208431;10366004;11281649;1...         False  \n",
       "3      10022869;10037172;10208431;10366004;11281649;1...         False  \n",
       "4      10022869;10037172;10208431;10366004;11281649;1...         False  \n",
       "...                                                  ...           ...  \n",
       "64490                                           20019798         False  \n",
       "64491                                           20019798         False  \n",
       "64492                                           11948912         False  \n",
       "64493                                           22951020         False  \n",
       "64494                                           25295465         False  \n",
       "\n",
       "[64495 rows x 16 columns]"
      ]
     },
     "execution_count": 38,
     "metadata": {},
     "output_type": "execute_result"
    }
   ],
   "source": [
    "resources.interactions"
   ]
  },
  {
   "cell_type": "markdown",
   "id": "23a62f81-1da2-42e8-ae04-696897ac7ae4",
   "metadata": {},
   "source": [
    "It is important once added a new resource, to build the database as showcases in the previous cell. All those steps assure that the incoming database is compatible with the NeKo structure, possibly avoiding mistakes when running the connecting algorithms."
   ]
  },
  {
   "cell_type": "markdown",
   "id": "068cbc5c-93a5-46d9-b0a6-bc520ee66bfc",
   "metadata": {},
   "source": [
    "Sometimes a WARNING can suggest that some interactions could be missing; while this is limiting the amount of knowledge NeKo can extract, it does not prevent the package from working. Other possible cause of a WARNING is the absence of \"consensus\" columns. To avoid errors while running the package, set always consensus to False."
   ]
  },
  {
   "cell_type": "markdown",
   "id": "ece16ef7-cf9f-4f50-ad5f-99568bdfec88",
   "metadata": {},
   "source": [
    "## 2. Adding a public database\n",
    "\n",
    "Alternatively, the user might want to use their own interaction databases. We have already implemented the inclusion of some of widely used databases. \n",
    "\n",
    "As example, we show here how to integrate the [Signor 3.0](https://signor.uniroma2.it/) database. In order to do so, the User needs to have already downloaded the whole Signor database, available at the following link: [https://signor.uniroma2.it/downloads.php](https://signor.uniroma2.it/downloads.php) or with the following code:. "
   ]
  },
  {
   "cell_type": "markdown",
   "id": "8361d2b2-646b-4080-bc36-ca28c9bfab10",
   "metadata": {},
   "source": [
    "### 2A. Add Signor database\n",
    "\n"
   ]
  },
  {
   "cell_type": "code",
   "execution_count": null,
   "id": "4fd4b190-350a-4682-8f09-8c6423064038",
   "metadata": {},
   "outputs": [],
   "source": [
    "resources = signor()  # this function accept as argument also a PATH to the signor file\n",
    "resources.build()"
   ]
  },
  {
   "cell_type": "code",
   "execution_count": 40,
   "id": "c7e5fe30-55c4-467b-aa7d-5c02cfba7dd2",
   "metadata": {},
   "outputs": [
    {
     "data": {
      "text/html": [
       "<div>\n",
       "<style scoped>\n",
       "    .dataframe tbody tr th:only-of-type {\n",
       "        vertical-align: middle;\n",
       "    }\n",
       "\n",
       "    .dataframe tbody tr th {\n",
       "        vertical-align: top;\n",
       "    }\n",
       "\n",
       "    .dataframe thead th {\n",
       "        text-align: right;\n",
       "    }\n",
       "</style>\n",
       "<table border=\"1\" class=\"dataframe\">\n",
       "  <thead>\n",
       "    <tr style=\"text-align: right;\">\n",
       "      <th></th>\n",
       "      <th>source</th>\n",
       "      <th>target</th>\n",
       "      <th>is_directed</th>\n",
       "      <th>is_stimulation</th>\n",
       "      <th>is_inhibition</th>\n",
       "      <th>form_complex</th>\n",
       "      <th>consensus_direction</th>\n",
       "      <th>consensus_stimulation</th>\n",
       "      <th>consensus_inhibition</th>\n",
       "      <th>curation_effort</th>\n",
       "      <th>references</th>\n",
       "      <th>sources</th>\n",
       "    </tr>\n",
       "  </thead>\n",
       "  <tbody>\n",
       "    <tr>\n",
       "      <th>0</th>\n",
       "      <td>A0A024RAD5</td>\n",
       "      <td>SIGNOR-C535</td>\n",
       "      <td>True</td>\n",
       "      <td>False</td>\n",
       "      <td>False</td>\n",
       "      <td>True</td>\n",
       "      <td>False</td>\n",
       "      <td>False</td>\n",
       "      <td>False</td>\n",
       "      <td>miannu</td>\n",
       "      <td>31831667</td>\n",
       "      <td>SIGNOR-272062</td>\n",
       "    </tr>\n",
       "    <tr>\n",
       "      <th>1</th>\n",
       "      <td>A0A0B4J2F0</td>\n",
       "      <td>P18848</td>\n",
       "      <td>True</td>\n",
       "      <td>False</td>\n",
       "      <td>True</td>\n",
       "      <td>False</td>\n",
       "      <td>False</td>\n",
       "      <td>False</td>\n",
       "      <td>False</td>\n",
       "      <td>miannu</td>\n",
       "      <td>31653868</td>\n",
       "      <td>SIGNOR-261041</td>\n",
       "    </tr>\n",
       "    <tr>\n",
       "      <th>2</th>\n",
       "      <td>A0A0B4J2F0</td>\n",
       "      <td>P35638</td>\n",
       "      <td>True</td>\n",
       "      <td>False</td>\n",
       "      <td>True</td>\n",
       "      <td>False</td>\n",
       "      <td>False</td>\n",
       "      <td>False</td>\n",
       "      <td>False</td>\n",
       "      <td>miannu</td>\n",
       "      <td>31653868</td>\n",
       "      <td>SIGNOR-261043</td>\n",
       "    </tr>\n",
       "    <tr>\n",
       "      <th>3</th>\n",
       "      <td>A0A0B4J2F0</td>\n",
       "      <td>SIGNOR-PH2</td>\n",
       "      <td>True</td>\n",
       "      <td>False</td>\n",
       "      <td>True</td>\n",
       "      <td>False</td>\n",
       "      <td>False</td>\n",
       "      <td>False</td>\n",
       "      <td>False</td>\n",
       "      <td>miannu</td>\n",
       "      <td>31653868</td>\n",
       "      <td>SIGNOR-261042</td>\n",
       "    </tr>\n",
       "    <tr>\n",
       "      <th>4</th>\n",
       "      <td>A0AVT1</td>\n",
       "      <td>SIGNOR-C496</td>\n",
       "      <td>True</td>\n",
       "      <td>False</td>\n",
       "      <td>False</td>\n",
       "      <td>True</td>\n",
       "      <td>False</td>\n",
       "      <td>False</td>\n",
       "      <td>False</td>\n",
       "      <td>miannu</td>\n",
       "      <td>24816100</td>\n",
       "      <td>SIGNOR-270835</td>\n",
       "    </tr>\n",
       "    <tr>\n",
       "      <th>...</th>\n",
       "      <td>...</td>\n",
       "      <td>...</td>\n",
       "      <td>...</td>\n",
       "      <td>...</td>\n",
       "      <td>...</td>\n",
       "      <td>...</td>\n",
       "      <td>...</td>\n",
       "      <td>...</td>\n",
       "      <td>...</td>\n",
       "      <td>...</td>\n",
       "      <td>...</td>\n",
       "      <td>...</td>\n",
       "    </tr>\n",
       "    <tr>\n",
       "      <th>28850</th>\n",
       "      <td>URS000075C808_9606</td>\n",
       "      <td>Q6ZN04</td>\n",
       "      <td>True</td>\n",
       "      <td>True</td>\n",
       "      <td>False</td>\n",
       "      <td>False</td>\n",
       "      <td>False</td>\n",
       "      <td>False</td>\n",
       "      <td>False</td>\n",
       "      <td>miannu</td>\n",
       "      <td>24326307</td>\n",
       "      <td>SIGNOR-272092</td>\n",
       "    </tr>\n",
       "    <tr>\n",
       "      <th>28851</th>\n",
       "      <td>URS000075C808_9606</td>\n",
       "      <td>Q86Y13</td>\n",
       "      <td>True</td>\n",
       "      <td>True</td>\n",
       "      <td>False</td>\n",
       "      <td>False</td>\n",
       "      <td>False</td>\n",
       "      <td>False</td>\n",
       "      <td>False</td>\n",
       "      <td>miannu</td>\n",
       "      <td>24326307</td>\n",
       "      <td>SIGNOR-272091</td>\n",
       "    </tr>\n",
       "    <tr>\n",
       "      <th>28852</th>\n",
       "      <td>URS000075CF56_9606</td>\n",
       "      <td>P05019</td>\n",
       "      <td>True</td>\n",
       "      <td>False</td>\n",
       "      <td>True</td>\n",
       "      <td>False</td>\n",
       "      <td>False</td>\n",
       "      <td>False</td>\n",
       "      <td>False</td>\n",
       "      <td>miannu</td>\n",
       "      <td>25477897</td>\n",
       "      <td>SIGNOR-255793</td>\n",
       "    </tr>\n",
       "    <tr>\n",
       "      <th>28853</th>\n",
       "      <td>URS000075CF56_9606</td>\n",
       "      <td>P23759</td>\n",
       "      <td>True</td>\n",
       "      <td>False</td>\n",
       "      <td>True</td>\n",
       "      <td>False</td>\n",
       "      <td>False</td>\n",
       "      <td>False</td>\n",
       "      <td>False</td>\n",
       "      <td>irozzo</td>\n",
       "      <td>24708856</td>\n",
       "      <td>SIGNOR-256124</td>\n",
       "    </tr>\n",
       "    <tr>\n",
       "      <th>28854</th>\n",
       "      <td>URS000075D8A0_9606</td>\n",
       "      <td>P61073</td>\n",
       "      <td>True</td>\n",
       "      <td>True</td>\n",
       "      <td>False</td>\n",
       "      <td>False</td>\n",
       "      <td>False</td>\n",
       "      <td>False</td>\n",
       "      <td>False</td>\n",
       "      <td>Luisa</td>\n",
       "      <td>20516212</td>\n",
       "      <td>SIGNOR-268952</td>\n",
       "    </tr>\n",
       "  </tbody>\n",
       "</table>\n",
       "<p>28855 rows × 12 columns</p>\n",
       "</div>"
      ],
      "text/plain": [
       "                   source       target  is_directed  is_stimulation  \\\n",
       "0              A0A024RAD5  SIGNOR-C535         True           False   \n",
       "1              A0A0B4J2F0       P18848         True           False   \n",
       "2              A0A0B4J2F0       P35638         True           False   \n",
       "3              A0A0B4J2F0   SIGNOR-PH2         True           False   \n",
       "4                  A0AVT1  SIGNOR-C496         True           False   \n",
       "...                   ...          ...          ...             ...   \n",
       "28850  URS000075C808_9606       Q6ZN04         True            True   \n",
       "28851  URS000075C808_9606       Q86Y13         True            True   \n",
       "28852  URS000075CF56_9606       P05019         True           False   \n",
       "28853  URS000075CF56_9606       P23759         True           False   \n",
       "28854  URS000075D8A0_9606       P61073         True            True   \n",
       "\n",
       "       is_inhibition  form_complex  consensus_direction  \\\n",
       "0              False          True                False   \n",
       "1               True         False                False   \n",
       "2               True         False                False   \n",
       "3               True         False                False   \n",
       "4              False          True                False   \n",
       "...              ...           ...                  ...   \n",
       "28850          False         False                False   \n",
       "28851          False         False                False   \n",
       "28852           True         False                False   \n",
       "28853           True         False                False   \n",
       "28854          False         False                False   \n",
       "\n",
       "       consensus_stimulation  consensus_inhibition curation_effort references  \\\n",
       "0                      False                 False          miannu   31831667   \n",
       "1                      False                 False          miannu   31653868   \n",
       "2                      False                 False          miannu   31653868   \n",
       "3                      False                 False          miannu   31653868   \n",
       "4                      False                 False          miannu   24816100   \n",
       "...                      ...                   ...             ...        ...   \n",
       "28850                  False                 False          miannu   24326307   \n",
       "28851                  False                 False          miannu   24326307   \n",
       "28852                  False                 False          miannu   25477897   \n",
       "28853                  False                 False          irozzo   24708856   \n",
       "28854                  False                 False           Luisa   20516212   \n",
       "\n",
       "             sources  \n",
       "0      SIGNOR-272062  \n",
       "1      SIGNOR-261041  \n",
       "2      SIGNOR-261043  \n",
       "3      SIGNOR-261042  \n",
       "4      SIGNOR-270835  \n",
       "...              ...  \n",
       "28850  SIGNOR-272092  \n",
       "28851  SIGNOR-272091  \n",
       "28852  SIGNOR-255793  \n",
       "28853  SIGNOR-256124  \n",
       "28854  SIGNOR-268952  \n",
       "\n",
       "[28855 rows x 12 columns]"
      ]
     },
     "execution_count": 40,
     "metadata": {},
     "output_type": "execute_result"
    }
   ],
   "source": [
    "resources.interactions"
   ]
  },
  {
   "cell_type": "markdown",
   "id": "2065dada-a426-4774-80f9-7322db45efd0",
   "metadata": {},
   "source": [
    "In order to avoid conflict or errors, ensure that the file contains at least the following columns: IDA, IDB, EFFECT, ANNOTATOR, PMID, SIGNOR_ID"
   ]
  },
  {
   "cell_type": "markdown",
   "id": "64b445e7-2e45-40ee-9ee9-268965b4d55b",
   "metadata": {},
   "source": [
    "### \n",
    "<div class=\"alert alert-info\">\n",
    "\n",
    "**Note**\n",
    "    \n",
    "SIGNOR uses has different identifiers for complexes, protein family, phenotype, etc.\n",
    "It is possible that the network contains nodes names like \"Signor_pf32\" or something like this... This is not yet translated, but if you are interested in what those nodes consist of, you can use download their vocabulary for the entities: [https://signor.uniroma2.it/downloads.php](https://signor.uniroma2.it/downloads.php)\n",
    "\n",
    "</div>  \n",
    "\n"
   ]
  },
  {
   "cell_type": "markdown",
   "id": "8fe2700c-5b59-4302-9a9e-cc2de59d34af",
   "metadata": {},
   "source": [
    "## 3. Build the network"
   ]
  },
  {
   "cell_type": "markdown",
   "id": "2910c871-fdfc-4d20-b76f-af213f06a3f0",
   "metadata": {},
   "source": [
    "### 3A. Import genes as network nodes"
   ]
  },
  {
   "cell_type": "code",
   "execution_count": 41,
   "id": "79c09e13",
   "metadata": {},
   "outputs": [],
   "source": [
    "genes = [\"SRC\", \"NOTCH1\", \"PTK2\", \"CDH1\", \"CDH2\", \"VIM\", \"MAP4K4\", \"LATS1\", \"LATS2\"]"
   ]
  },
  {
   "cell_type": "markdown",
   "id": "7cd015ca-f1bb-4055-9226-b4b01a0a0111",
   "metadata": {},
   "source": [
    "### 3B. Create network object by specifying the interaction resources"
   ]
  },
  {
   "cell_type": "code",
   "execution_count": 42,
   "id": "fcf68a99-8454-41e3-8816-c3f976d04c0b",
   "metadata": {},
   "outputs": [],
   "source": [
    "new_net1 = Network(genes, resources = resources.interactions)"
   ]
  },
  {
   "cell_type": "code",
   "execution_count": 43,
   "id": "fad00bec-ba72-4943-bf1e-9c60f58f17a2",
   "metadata": {},
   "outputs": [
    {
     "data": {
      "text/html": [
       "<div>\n",
       "<style scoped>\n",
       "    .dataframe tbody tr th:only-of-type {\n",
       "        vertical-align: middle;\n",
       "    }\n",
       "\n",
       "    .dataframe tbody tr th {\n",
       "        vertical-align: top;\n",
       "    }\n",
       "\n",
       "    .dataframe thead th {\n",
       "        text-align: right;\n",
       "    }\n",
       "</style>\n",
       "<table border=\"1\" class=\"dataframe\">\n",
       "  <thead>\n",
       "    <tr style=\"text-align: right;\">\n",
       "      <th></th>\n",
       "      <th>Genesymbol</th>\n",
       "      <th>Uniprot</th>\n",
       "      <th>Type</th>\n",
       "    </tr>\n",
       "  </thead>\n",
       "  <tbody>\n",
       "    <tr>\n",
       "      <th>0</th>\n",
       "      <td>SRC</td>\n",
       "      <td>P12931</td>\n",
       "      <td>NaN</td>\n",
       "    </tr>\n",
       "    <tr>\n",
       "      <th>1</th>\n",
       "      <td>NOTCH1</td>\n",
       "      <td>P46531</td>\n",
       "      <td>NaN</td>\n",
       "    </tr>\n",
       "    <tr>\n",
       "      <th>2</th>\n",
       "      <td>PTK2</td>\n",
       "      <td>Q05397</td>\n",
       "      <td>NaN</td>\n",
       "    </tr>\n",
       "    <tr>\n",
       "      <th>3</th>\n",
       "      <td>CDH1</td>\n",
       "      <td>P12830</td>\n",
       "      <td>NaN</td>\n",
       "    </tr>\n",
       "    <tr>\n",
       "      <th>4</th>\n",
       "      <td>CDH2</td>\n",
       "      <td>P19022</td>\n",
       "      <td>NaN</td>\n",
       "    </tr>\n",
       "    <tr>\n",
       "      <th>5</th>\n",
       "      <td>VIM</td>\n",
       "      <td>P08670</td>\n",
       "      <td>NaN</td>\n",
       "    </tr>\n",
       "    <tr>\n",
       "      <th>6</th>\n",
       "      <td>MAP4K4</td>\n",
       "      <td>O95819</td>\n",
       "      <td>NaN</td>\n",
       "    </tr>\n",
       "    <tr>\n",
       "      <th>7</th>\n",
       "      <td>LATS1</td>\n",
       "      <td>O95835</td>\n",
       "      <td>NaN</td>\n",
       "    </tr>\n",
       "    <tr>\n",
       "      <th>8</th>\n",
       "      <td>LATS2</td>\n",
       "      <td>Q9NRM7</td>\n",
       "      <td>NaN</td>\n",
       "    </tr>\n",
       "  </tbody>\n",
       "</table>\n",
       "</div>"
      ],
      "text/plain": [
       "  Genesymbol Uniprot Type\n",
       "0        SRC  P12931  NaN\n",
       "1     NOTCH1  P46531  NaN\n",
       "2       PTK2  Q05397  NaN\n",
       "3       CDH1  P12830  NaN\n",
       "4       CDH2  P19022  NaN\n",
       "5        VIM  P08670  NaN\n",
       "6     MAP4K4  O95819  NaN\n",
       "7      LATS1  O95835  NaN\n",
       "8      LATS2  Q9NRM7  NaN"
      ]
     },
     "execution_count": 43,
     "metadata": {},
     "output_type": "execute_result"
    }
   ],
   "source": [
    "#Print node dataframe\n",
    "new_net1.nodes"
   ]
  },
  {
   "cell_type": "markdown",
   "id": "a2759581",
   "metadata": {},
   "source": [
    "### 3C. Build network\n",
    "\n",
    "The downstream steps to connect your nodes, are the same. Please see the [Network building](https://omniflow-project.readthedocs.io/en/latest/notebooks/network_building.html) tutorial for detailed explanations of each step."
   ]
  },
  {
   "cell_type": "code",
   "execution_count": 44,
   "id": "a339705b",
   "metadata": {},
   "outputs": [
    {
     "name": "stdout",
     "output_type": "stream",
     "text": [
      "CPU times: user 24.8 ms, sys: 945 µs, total: 25.8 ms\n",
      "Wall time: 25.2 ms\n"
     ]
    }
   ],
   "source": [
    "%%time\n",
    "new_net1.connect_nodes(only_signed=True, consensus_only=False)"
   ]
  },
  {
   "cell_type": "code",
   "execution_count": 45,
   "id": "db39112a",
   "metadata": {},
   "outputs": [
    {
     "data": {
      "image/svg+xml": [
       "<?xml version=\"1.0\" encoding=\"UTF-8\" standalone=\"no\"?>\n",
       "<!DOCTYPE svg PUBLIC \"-//W3C//DTD SVG 1.1//EN\"\n",
       " \"http://www.w3.org/Graphics/SVG/1.1/DTD/svg11.dtd\">\n",
       "<!-- Generated by graphviz version 2.43.0 (0)\n",
       " -->\n",
       "<!-- Title: %3 Pages: 1 -->\n",
       "<svg width=\"685pt\" height=\"116pt\"\n",
       " viewBox=\"0.00 0.00 685.04 116.00\" xmlns=\"http://www.w3.org/2000/svg\" xmlns:xlink=\"http://www.w3.org/1999/xlink\">\n",
       "<g id=\"graph0\" class=\"graph\" transform=\"scale(1 1) rotate(0) translate(4 112)\">\n",
       "<title>%3</title>\n",
       "<polygon fill=\"white\" stroke=\"transparent\" points=\"-4,4 -4,-112 681.04,-112 681.04,4 -4,4\"/>\n",
       "<!-- SRC -->\n",
       "<g id=\"node1\" class=\"node\">\n",
       "<title>SRC</title>\n",
       "<ellipse fill=\"lightyellow\" stroke=\"black\" cx=\"127.75\" cy=\"-90\" rx=\"30.59\" ry=\"18\"/>\n",
       "<text text-anchor=\"middle\" x=\"127.75\" y=\"-86.3\" font-family=\"Times,serif\" font-size=\"14.00\">SRC</text>\n",
       "</g>\n",
       "<!-- PTK2 -->\n",
       "<g id=\"node2\" class=\"node\">\n",
       "<title>PTK2</title>\n",
       "<ellipse fill=\"lightyellow\" stroke=\"black\" cx=\"35.75\" cy=\"-18\" rx=\"36\" ry=\"18\"/>\n",
       "<text text-anchor=\"middle\" x=\"35.75\" y=\"-14.3\" font-family=\"Times,serif\" font-size=\"14.00\">PTK2</text>\n",
       "</g>\n",
       "<!-- SRC&#45;&gt;PTK2 -->\n",
       "<g id=\"edge1\" class=\"edge\">\n",
       "<title>SRC&#45;&gt;PTK2</title>\n",
       "<path fill=\"none\" stroke=\"green\" d=\"M109.57,-75.17C96.23,-65.02 77.88,-51.06 62.81,-39.6\"/>\n",
       "<polygon fill=\"green\" stroke=\"green\" points=\"64.91,-36.79 54.84,-33.52 60.67,-42.36 64.91,-36.79\"/>\n",
       "</g>\n",
       "<!-- CDH1 -->\n",
       "<g id=\"node3\" class=\"node\">\n",
       "<title>CDH1</title>\n",
       "<ellipse fill=\"lightyellow\" stroke=\"black\" cx=\"127.75\" cy=\"-18\" rx=\"38.19\" ry=\"18\"/>\n",
       "<text text-anchor=\"middle\" x=\"127.75\" y=\"-14.3\" font-family=\"Times,serif\" font-size=\"14.00\">CDH1</text>\n",
       "</g>\n",
       "<!-- SRC&#45;&gt;CDH1 -->\n",
       "<g id=\"edge2\" class=\"edge\">\n",
       "<title>SRC&#45;&gt;CDH1</title>\n",
       "<path fill=\"none\" stroke=\"red\" d=\"M127.75,-71.7C127.75,-62.46 127.75,-50.98 127.75,-41.11\"/>\n",
       "<polygon fill=\"red\" stroke=\"red\" points=\"122.75,-37.1 132.75,-37.1 132.75,-39.1 122.75,-39.1 122.75,-37.1\"/>\n",
       "<polyline fill=\"none\" stroke=\"red\" points=\"127.75,-36.1 127.75,-41.1 \"/>\n",
       "</g>\n",
       "<!-- CDH2 -->\n",
       "<g id=\"node4\" class=\"node\">\n",
       "<title>CDH2</title>\n",
       "<ellipse fill=\"lightyellow\" stroke=\"black\" cx=\"222.75\" cy=\"-18\" rx=\"38.19\" ry=\"18\"/>\n",
       "<text text-anchor=\"middle\" x=\"222.75\" y=\"-14.3\" font-family=\"Times,serif\" font-size=\"14.00\">CDH2</text>\n",
       "</g>\n",
       "<!-- SRC&#45;&gt;CDH2 -->\n",
       "<g id=\"edge3\" class=\"edge\">\n",
       "<title>SRC&#45;&gt;CDH2</title>\n",
       "<path fill=\"none\" stroke=\"red\" d=\"M146.06,-75.5C161.07,-64.44 182.43,-48.7 198.8,-36.65\"/>\n",
       "<polygon fill=\"red\" stroke=\"red\" points=\"199.08,-30.23 205.01,-38.28 203.4,-39.47 197.46,-31.42 199.08,-30.23\"/>\n",
       "<polyline fill=\"none\" stroke=\"red\" points=\"202.85,-33.66 198.82,-36.63 \"/>\n",
       "</g>\n",
       "<!-- NOTCH1 -->\n",
       "<g id=\"node5\" class=\"node\">\n",
       "<title>NOTCH1</title>\n",
       "<ellipse fill=\"lightyellow\" stroke=\"black\" cx=\"228.75\" cy=\"-90\" rx=\"51.99\" ry=\"18\"/>\n",
       "<text text-anchor=\"middle\" x=\"228.75\" y=\"-86.3\" font-family=\"Times,serif\" font-size=\"14.00\">NOTCH1</text>\n",
       "</g>\n",
       "<!-- VIM -->\n",
       "<g id=\"node6\" class=\"node\">\n",
       "<title>VIM</title>\n",
       "<ellipse fill=\"lightyellow\" stroke=\"black\" cx=\"328.75\" cy=\"-90\" rx=\"29.8\" ry=\"18\"/>\n",
       "<text text-anchor=\"middle\" x=\"328.75\" y=\"-86.3\" font-family=\"Times,serif\" font-size=\"14.00\">VIM</text>\n",
       "</g>\n",
       "<!-- MAP4K4 -->\n",
       "<g id=\"node7\" class=\"node\">\n",
       "<title>MAP4K4</title>\n",
       "<ellipse fill=\"lightyellow\" stroke=\"black\" cx=\"427.75\" cy=\"-90\" rx=\"51.19\" ry=\"18\"/>\n",
       "<text text-anchor=\"middle\" x=\"427.75\" y=\"-86.3\" font-family=\"Times,serif\" font-size=\"14.00\">MAP4K4</text>\n",
       "</g>\n",
       "<!-- LATS1 -->\n",
       "<g id=\"node8\" class=\"node\">\n",
       "<title>LATS1</title>\n",
       "<ellipse fill=\"lightyellow\" stroke=\"black\" cx=\"537.75\" cy=\"-90\" rx=\"40.09\" ry=\"18\"/>\n",
       "<text text-anchor=\"middle\" x=\"537.75\" y=\"-86.3\" font-family=\"Times,serif\" font-size=\"14.00\">LATS1</text>\n",
       "</g>\n",
       "<!-- LATS2 -->\n",
       "<g id=\"node9\" class=\"node\">\n",
       "<title>LATS2</title>\n",
       "<ellipse fill=\"lightyellow\" stroke=\"black\" cx=\"636.75\" cy=\"-90\" rx=\"40.09\" ry=\"18\"/>\n",
       "<text text-anchor=\"middle\" x=\"636.75\" y=\"-86.3\" font-family=\"Times,serif\" font-size=\"14.00\">LATS2</text>\n",
       "</g>\n",
       "</g>\n",
       "</svg>\n"
      ],
      "text/plain": [
       "<graphviz.dot.Digraph at 0x7b1abd6e7670>"
      ]
     },
     "metadata": {},
     "output_type": "display_data"
    }
   ],
   "source": [
    "visualizer = NetworkVisualizer(new_net1, color_by='effect', noi=True)\n",
    "visualizer.render()"
   ]
  },
  {
   "cell_type": "markdown",
   "id": "7aae5ca7-5696-44ba-9e75-4a2d1eb0a2d9",
   "metadata": {},
   "source": [
    "<div class=\"alert alert-info\">\n",
    "\n",
    "**Note**\n",
    "    \n",
    "NB! It is important to note, that not all the databases have the same structure as Omnipath. In particular, if the columns \"consensus\" are missing, we suggest to avoid to use the flag `consensus` or `consensus_only` when using NeKo with customize databases. As a general advise, we suggest to always use `consensus=False` when you are using a database different from the Omnipath. \n",
    "\n",
    "</div>  "
   ]
  },
  {
   "cell_type": "code",
   "execution_count": 46,
   "id": "12052b3b-854f-41a0-a762-20de5cbc7b35",
   "metadata": {},
   "outputs": [
    {
     "name": "stdout",
     "output_type": "stream",
     "text": [
      "CPU times: user 2.59 s, sys: 112 ms, total: 2.7 s\n",
      "Wall time: 2.7 s\n"
     ]
    }
   ],
   "source": [
    "%%time\n",
    "new_net1.complete_connection(maxlen=3, algorithm=\"bfs\", only_signed=True, connect_with_bias=False, consensus=False) "
   ]
  },
  {
   "cell_type": "code",
   "execution_count": 47,
   "id": "aca66151-159b-4bc6-85a8-4a537bb2afdf",
   "metadata": {},
   "outputs": [
    {
     "data": {
      "image/svg+xml": [
       "<?xml version=\"1.0\" encoding=\"UTF-8\" standalone=\"no\"?>\n",
       "<!DOCTYPE svg PUBLIC \"-//W3C//DTD SVG 1.1//EN\"\n",
       " \"http://www.w3.org/Graphics/SVG/1.1/DTD/svg11.dtd\">\n",
       "<!-- Generated by graphviz version 2.43.0 (0)\n",
       " -->\n",
       "<!-- Title: %3 Pages: 1 -->\n",
       "<svg width=\"911pt\" height=\"980pt\"\n",
       " viewBox=\"0.00 0.00 911.35 980.00\" xmlns=\"http://www.w3.org/2000/svg\" xmlns:xlink=\"http://www.w3.org/1999/xlink\">\n",
       "<g id=\"graph0\" class=\"graph\" transform=\"scale(1 1) rotate(0) translate(4 976)\">\n",
       "<title>%3</title>\n",
       "<polygon fill=\"white\" stroke=\"transparent\" points=\"-4,4 -4,-976 907.35,-976 907.35,4 -4,4\"/>\n",
       "<!-- SRC -->\n",
       "<g id=\"node1\" class=\"node\">\n",
       "<title>SRC</title>\n",
       "<ellipse fill=\"lightyellow\" stroke=\"black\" cx=\"365.35\" cy=\"-954\" rx=\"30.59\" ry=\"18\"/>\n",
       "<text text-anchor=\"middle\" x=\"365.35\" y=\"-950.3\" font-family=\"Times,serif\" font-size=\"14.00\">SRC</text>\n",
       "</g>\n",
       "<!-- PTK2 -->\n",
       "<g id=\"node2\" class=\"node\">\n",
       "<title>PTK2</title>\n",
       "<ellipse fill=\"lightyellow\" stroke=\"black\" cx=\"805.35\" cy=\"-882\" rx=\"36\" ry=\"18\"/>\n",
       "<text text-anchor=\"middle\" x=\"805.35\" y=\"-878.3\" font-family=\"Times,serif\" font-size=\"14.00\">PTK2</text>\n",
       "</g>\n",
       "<!-- SRC&#45;&gt;PTK2 -->\n",
       "<g id=\"edge1\" class=\"edge\">\n",
       "<title>SRC&#45;&gt;PTK2</title>\n",
       "<path fill=\"none\" stroke=\"green\" d=\"M395.55,-950.89C461.56,-945.84 623.32,-931.11 755.35,-900 759.46,-899.03 763.72,-897.86 767.93,-896.59\"/>\n",
       "<polygon fill=\"green\" stroke=\"green\" points=\"769.13,-899.88 777.59,-893.5 767,-893.21 769.13,-899.88\"/>\n",
       "</g>\n",
       "<!-- CDH1 -->\n",
       "<g id=\"node3\" class=\"node\">\n",
       "<title>CDH1</title>\n",
       "<ellipse fill=\"lightyellow\" stroke=\"black\" cx=\"60.35\" cy=\"-882\" rx=\"38.19\" ry=\"18\"/>\n",
       "<text text-anchor=\"middle\" x=\"60.35\" y=\"-878.3\" font-family=\"Times,serif\" font-size=\"14.00\">CDH1</text>\n",
       "</g>\n",
       "<!-- SRC&#45;&gt;CDH1 -->\n",
       "<g id=\"edge2\" class=\"edge\">\n",
       "<title>SRC&#45;&gt;CDH1</title>\n",
       "<path fill=\"none\" stroke=\"red\" d=\"M336.4,-947.67C289.79,-938.9 195.31,-920.35 116.35,-900 109.76,-898.3 102.79,-896.33 96.09,-894.34\"/>\n",
       "<polygon fill=\"red\" stroke=\"red\" points=\"90.54,-897.9 93.42,-888.32 95.33,-888.9 92.46,-898.48 90.54,-897.9\"/>\n",
       "<polyline fill=\"none\" stroke=\"red\" points=\"91.02,-892.83 95.81,-894.26 \"/>\n",
       "</g>\n",
       "<!-- CDH2 -->\n",
       "<g id=\"node4\" class=\"node\">\n",
       "<title>CDH2</title>\n",
       "<ellipse fill=\"lightyellow\" stroke=\"black\" cx=\"588.35\" cy=\"-882\" rx=\"38.19\" ry=\"18\"/>\n",
       "<text text-anchor=\"middle\" x=\"588.35\" y=\"-878.3\" font-family=\"Times,serif\" font-size=\"14.00\">CDH2</text>\n",
       "</g>\n",
       "<!-- SRC&#45;&gt;CDH2 -->\n",
       "<g id=\"edge3\" class=\"edge\">\n",
       "<title>SRC&#45;&gt;CDH2</title>\n",
       "<path fill=\"none\" stroke=\"red\" d=\"M391.8,-944.7C431.76,-932.15 507.61,-908.34 552.5,-894.25\"/>\n",
       "<polygon fill=\"red\" stroke=\"red\" points=\"554.83,-888.28 557.82,-897.82 555.91,-898.42 552.92,-888.88 554.83,-888.28\"/>\n",
       "<polyline fill=\"none\" stroke=\"red\" points=\"557.28,-892.75 552.51,-894.25 \"/>\n",
       "</g>\n",
       "<!-- PTPN6 -->\n",
       "<g id=\"node8\" class=\"node\">\n",
       "<title>PTPN6</title>\n",
       "<ellipse fill=\"lightgray\" stroke=\"black\" cx=\"139.35\" cy=\"-594\" rx=\"42.79\" ry=\"18\"/>\n",
       "<text text-anchor=\"middle\" x=\"139.35\" y=\"-590.3\" font-family=\"Times,serif\" font-size=\"14.00\">PTPN6</text>\n",
       "</g>\n",
       "<!-- SRC&#45;&gt;PTPN6 -->\n",
       "<g id=\"edge34\" class=\"edge\">\n",
       "<title>SRC&#45;&gt;PTPN6</title>\n",
       "<path fill=\"none\" stroke=\"green\" d=\"M334.84,-951.23C295.17,-947.46 226.3,-935.78 181.35,-900 145.68,-871.61 130.35,-856.59 130.35,-811 130.35,-811 130.35,-811 130.35,-737 130.35,-697 130.35,-650.65 132.64,-622.08\"/>\n",
       "<polygon fill=\"green\" stroke=\"green\" points=\"136.13,-622.35 133.63,-612.05 129.16,-621.65 136.13,-622.35\"/>\n",
       "</g>\n",
       "<!-- DAB1 -->\n",
       "<g id=\"node9\" class=\"node\">\n",
       "<title>DAB1</title>\n",
       "<ellipse fill=\"lightgray\" stroke=\"black\" cx=\"236.35\" cy=\"-882\" rx=\"37.09\" ry=\"18\"/>\n",
       "<text text-anchor=\"middle\" x=\"236.35\" y=\"-878.3\" font-family=\"Times,serif\" font-size=\"14.00\">DAB1</text>\n",
       "</g>\n",
       "<!-- SRC&#45;&gt;DAB1 -->\n",
       "<g id=\"edge8\" class=\"edge\">\n",
       "<title>SRC&#45;&gt;DAB1</title>\n",
       "<path fill=\"none\" stroke=\"green\" d=\"M343.46,-941.13C323.03,-930.04 292.27,-913.34 268.94,-900.69\"/>\n",
       "<polygon fill=\"green\" stroke=\"green\" points=\"270.55,-897.58 260.09,-895.88 267.21,-903.73 270.55,-897.58\"/>\n",
       "</g>\n",
       "<!-- SIGNOR&#45;PF24 -->\n",
       "<g id=\"node19\" class=\"node\">\n",
       "<title>SIGNOR&#45;PF24</title>\n",
       "<ellipse fill=\"lightgray\" stroke=\"black\" cx=\"451.35\" cy=\"-594\" rx=\"77.19\" ry=\"18\"/>\n",
       "<text text-anchor=\"middle\" x=\"451.35\" y=\"-590.3\" font-family=\"Times,serif\" font-size=\"14.00\">SIGNOR&#45;PF24</text>\n",
       "</g>\n",
       "<!-- SRC&#45;&gt;SIGNOR&#45;PF24 -->\n",
       "<g id=\"edge22\" class=\"edge\">\n",
       "<title>SRC&#45;&gt;SIGNOR&#45;PF24</title>\n",
       "<path fill=\"none\" stroke=\"green\" d=\"M369.1,-936.05C374.64,-909.52 384.35,-856.52 384.35,-811 384.35,-811 384.35,-811 384.35,-737 384.35,-696.55 384.91,-684 403.35,-648 408.72,-637.51 416.7,-627.51 424.63,-619.08\"/>\n",
       "<polygon fill=\"green\" stroke=\"green\" points=\"427.27,-621.39 431.82,-611.81 422.3,-616.46 427.27,-621.39\"/>\n",
       "</g>\n",
       "<!-- CDKN1B -->\n",
       "<g id=\"node28\" class=\"node\">\n",
       "<title>CDKN1B</title>\n",
       "<ellipse fill=\"lightgray\" stroke=\"black\" cx=\"278.35\" cy=\"-378\" rx=\"51.99\" ry=\"18\"/>\n",
       "<text text-anchor=\"middle\" x=\"278.35\" y=\"-374.3\" font-family=\"Times,serif\" font-size=\"14.00\">CDKN1B</text>\n",
       "</g>\n",
       "<!-- SRC&#45;&gt;CDKN1B -->\n",
       "<g id=\"edge31\" class=\"edge\">\n",
       "<title>SRC&#45;&gt;CDKN1B</title>\n",
       "<path fill=\"none\" stroke=\"red\" d=\"M357.83,-936.14C353.55,-925.88 348.44,-912.41 345.35,-900 298.25,-711.13 283.11,-475.04 279.38,-401.75\"/>\n",
       "<polygon fill=\"red\" stroke=\"red\" points=\"274.17,-397.61 284.16,-397.11 284.25,-399.11 274.27,-399.61 274.17,-397.61\"/>\n",
       "<polyline fill=\"none\" stroke=\"red\" points=\"279.11,-396.36 279.36,-401.35 \"/>\n",
       "</g>\n",
       "<!-- TRIO -->\n",
       "<g id=\"node10\" class=\"node\">\n",
       "<title>TRIO</title>\n",
       "<ellipse fill=\"lightgray\" stroke=\"black\" cx=\"841.35\" cy=\"-810\" rx=\"34.39\" ry=\"18\"/>\n",
       "<text text-anchor=\"middle\" x=\"841.35\" y=\"-806.3\" font-family=\"Times,serif\" font-size=\"14.00\">TRIO</text>\n",
       "</g>\n",
       "<!-- PTK2&#45;&gt;TRIO -->\n",
       "<g id=\"edge10\" class=\"edge\">\n",
       "<title>PTK2&#45;&gt;TRIO</title>\n",
       "<path fill=\"none\" stroke=\"green\" d=\"M813.88,-864.41C818.18,-856.04 823.49,-845.71 828.3,-836.37\"/>\n",
       "<polygon fill=\"green\" stroke=\"green\" points=\"831.41,-837.96 832.88,-827.47 825.19,-834.76 831.41,-837.96\"/>\n",
       "</g>\n",
       "<!-- CTNNA1 -->\n",
       "<g id=\"node12\" class=\"node\">\n",
       "<title>CTNNA1</title>\n",
       "<ellipse fill=\"lightgray\" stroke=\"black\" cx=\"51.35\" cy=\"-666\" rx=\"51.19\" ry=\"18\"/>\n",
       "<text text-anchor=\"middle\" x=\"51.35\" y=\"-662.3\" font-family=\"Times,serif\" font-size=\"14.00\">CTNNA1</text>\n",
       "</g>\n",
       "<!-- CDH1&#45;&gt;CTNNA1 -->\n",
       "<g id=\"edge13\" class=\"edge\">\n",
       "<title>CDH1&#45;&gt;CTNNA1</title>\n",
       "<path fill=\"none\" stroke=\"green\" d=\"M59.62,-863.85C58.07,-826.83 54.38,-739.18 52.5,-694.39\"/>\n",
       "<polygon fill=\"green\" stroke=\"green\" points=\"55.99,-694.08 52.07,-684.23 48.99,-694.37 55.99,-694.08\"/>\n",
       "</g>\n",
       "<!-- SIGNOR&#45;C21 -->\n",
       "<g id=\"node16\" class=\"node\">\n",
       "<title>SIGNOR&#45;C21</title>\n",
       "<ellipse fill=\"lightgray\" stroke=\"black\" cx=\"604.35\" cy=\"-810\" rx=\"71.49\" ry=\"18\"/>\n",
       "<text text-anchor=\"middle\" x=\"604.35\" y=\"-806.3\" font-family=\"Times,serif\" font-size=\"14.00\">SIGNOR&#45;C21</text>\n",
       "</g>\n",
       "<!-- CDH2&#45;&gt;SIGNOR&#45;C21 -->\n",
       "<g id=\"edge18\" class=\"edge\">\n",
       "<title>CDH2&#45;&gt;SIGNOR&#45;C21</title>\n",
       "<path fill=\"none\" stroke=\"green\" d=\"M592.22,-864.05C594,-856.26 596.16,-846.82 598.16,-838.08\"/>\n",
       "<polygon fill=\"green\" stroke=\"green\" points=\"601.58,-838.8 600.4,-828.28 594.76,-837.24 601.58,-838.8\"/>\n",
       "</g>\n",
       "<!-- NOTCH1 -->\n",
       "<g id=\"node5\" class=\"node\">\n",
       "<title>NOTCH1</title>\n",
       "<ellipse fill=\"lightyellow\" stroke=\"black\" cx=\"228.35\" cy=\"-810\" rx=\"51.99\" ry=\"18\"/>\n",
       "<text text-anchor=\"middle\" x=\"228.35\" y=\"-806.3\" font-family=\"Times,serif\" font-size=\"14.00\">NOTCH1</text>\n",
       "</g>\n",
       "<!-- HES1 -->\n",
       "<g id=\"node6\" class=\"node\">\n",
       "<title>HES1</title>\n",
       "<ellipse fill=\"lightgray\" stroke=\"black\" cx=\"229.35\" cy=\"-738\" rx=\"37.89\" ry=\"18\"/>\n",
       "<text text-anchor=\"middle\" x=\"229.35\" y=\"-734.3\" font-family=\"Times,serif\" font-size=\"14.00\">HES1</text>\n",
       "</g>\n",
       "<!-- NOTCH1&#45;&gt;HES1 -->\n",
       "<g id=\"edge4\" class=\"edge\">\n",
       "<title>NOTCH1&#45;&gt;HES1</title>\n",
       "<path fill=\"none\" stroke=\"green\" d=\"M228.59,-791.7C228.7,-783.98 228.84,-774.71 228.96,-766.11\"/>\n",
       "<polygon fill=\"green\" stroke=\"green\" points=\"232.46,-766.15 229.1,-756.1 225.46,-766.05 232.46,-766.15\"/>\n",
       "</g>\n",
       "<!-- FLT3 -->\n",
       "<g id=\"node7\" class=\"node\">\n",
       "<title>FLT3</title>\n",
       "<ellipse fill=\"lightgray\" stroke=\"black\" cx=\"231.35\" cy=\"-666\" rx=\"34.39\" ry=\"18\"/>\n",
       "<text text-anchor=\"middle\" x=\"231.35\" y=\"-662.3\" font-family=\"Times,serif\" font-size=\"14.00\">FLT3</text>\n",
       "</g>\n",
       "<!-- HES1&#45;&gt;FLT3 -->\n",
       "<g id=\"edge5\" class=\"edge\">\n",
       "<title>HES1&#45;&gt;FLT3</title>\n",
       "<path fill=\"none\" stroke=\"red\" d=\"M229.84,-719.7C230.1,-710.46 230.43,-698.98 230.71,-689.11\"/>\n",
       "<polygon fill=\"red\" stroke=\"red\" points=\"225.83,-684.96 235.83,-685.25 235.77,-687.25 225.77,-686.96 225.83,-684.96\"/>\n",
       "<polyline fill=\"none\" stroke=\"red\" points=\"230.86,-684.1 230.71,-689.1 \"/>\n",
       "</g>\n",
       "<!-- FLT3&#45;&gt;PTPN6 -->\n",
       "<g id=\"edge6\" class=\"edge\">\n",
       "<title>FLT3&#45;&gt;PTPN6</title>\n",
       "<path fill=\"none\" stroke=\"red\" d=\"M212.73,-650.83C198.52,-640.03 178.84,-625.05 163.43,-613.33\"/>\n",
       "<polygon fill=\"red\" stroke=\"red\" points=\"156.98,-614.7 163.03,-606.74 164.62,-607.95 158.57,-615.91 156.98,-614.7\"/>\n",
       "<polyline fill=\"none\" stroke=\"red\" points=\"159.21,-610.11 163.19,-613.14 \"/>\n",
       "</g>\n",
       "<!-- FLT3&#45;&gt;SIGNOR&#45;PF24 -->\n",
       "<g id=\"edge42\" class=\"edge\">\n",
       "<title>FLT3&#45;&gt;SIGNOR&#45;PF24</title>\n",
       "<path fill=\"none\" stroke=\"green\" d=\"M260.11,-655.85C294.97,-644.75 354.44,-625.83 397.83,-612.03\"/>\n",
       "<polygon fill=\"green\" stroke=\"green\" points=\"398.91,-615.36 407.38,-608.99 396.79,-608.69 398.91,-615.36\"/>\n",
       "</g>\n",
       "<!-- FLT3&#45;&gt;CDKN1B -->\n",
       "<g id=\"edge43\" class=\"edge\">\n",
       "<title>FLT3&#45;&gt;CDKN1B</title>\n",
       "<path fill=\"none\" stroke=\"red\" d=\"M232.28,-647.84C234.67,-608.98 242.11,-511.46 260.35,-432 262.75,-421.51 266.44,-410.19 269.86,-400.71\"/>\n",
       "<polygon fill=\"red\" stroke=\"red\" points=\"266.57,-395.15 275.96,-398.59 275.27,-400.47 265.88,-397.02 266.57,-395.15\"/>\n",
       "<polyline fill=\"none\" stroke=\"red\" points=\"271.61,-395.93 269.89,-400.62 \"/>\n",
       "</g>\n",
       "<!-- PTPN6&#45;&gt;SRC -->\n",
       "<g id=\"edge7\" class=\"edge\">\n",
       "<title>PTPN6&#45;&gt;SRC</title>\n",
       "<path fill=\"none\" stroke=\"green\" d=\"M145.06,-612.05C148.35,-638.71 148.35,-691.89 148.35,-737 148.35,-811 148.35,-811 148.35,-811 148.35,-856.59 163.68,-871.61 199.35,-900 236.19,-929.33 289.1,-942.46 325.34,-948.32\"/>\n",
       "<polygon fill=\"green\" stroke=\"green\" points=\"325.14,-951.83 335.55,-949.86 326.18,-944.91 325.14,-951.83\"/>\n",
       "</g>\n",
       "<!-- DAB1&#45;&gt;NOTCH1 -->\n",
       "<g id=\"edge9\" class=\"edge\">\n",
       "<title>DAB1&#45;&gt;NOTCH1</title>\n",
       "<path fill=\"none\" stroke=\"green\" d=\"M234.37,-863.7C233.49,-855.98 232.43,-846.71 231.44,-838.11\"/>\n",
       "<polygon fill=\"green\" stroke=\"green\" points=\"234.91,-837.64 230.3,-828.1 227.96,-838.44 234.91,-837.64\"/>\n",
       "</g>\n",
       "<!-- DCC -->\n",
       "<g id=\"node11\" class=\"node\">\n",
       "<title>DCC</title>\n",
       "<ellipse fill=\"lightgray\" stroke=\"black\" cx=\"779.35\" cy=\"-738\" rx=\"31.7\" ry=\"18\"/>\n",
       "<text text-anchor=\"middle\" x=\"779.35\" y=\"-734.3\" font-family=\"Times,serif\" font-size=\"14.00\">DCC</text>\n",
       "</g>\n",
       "<!-- TRIO&#45;&gt;DCC -->\n",
       "<g id=\"edge11\" class=\"edge\">\n",
       "<title>TRIO&#45;&gt;DCC</title>\n",
       "<path fill=\"none\" stroke=\"green\" d=\"M827.59,-793.46C819.4,-784.22 808.86,-772.32 799.72,-762\"/>\n",
       "<polygon fill=\"green\" stroke=\"green\" points=\"802.32,-759.66 793.07,-754.49 797.08,-764.3 802.32,-759.66\"/>\n",
       "</g>\n",
       "<!-- DCC&#45;&gt;SRC -->\n",
       "<g id=\"edge12\" class=\"edge\">\n",
       "<title>DCC&#45;&gt;SRC</title>\n",
       "<path fill=\"none\" stroke=\"green\" d=\"M778.2,-756.1C774.96,-789.54 762.78,-863.53 717.35,-900 670.02,-937.98 488.14,-948.88 406.01,-951.9\"/>\n",
       "<polygon fill=\"green\" stroke=\"green\" points=\"405.68,-948.41 395.81,-952.25 405.92,-955.4 405.68,-948.41\"/>\n",
       "</g>\n",
       "<!-- DCC&#45;&gt;PTK2 -->\n",
       "<g id=\"edge35\" class=\"edge\">\n",
       "<title>DCC&#45;&gt;PTK2</title>\n",
       "<path fill=\"none\" stroke=\"green\" d=\"M782.49,-756.19C786.93,-780.42 795.07,-824.89 800.34,-853.68\"/>\n",
       "<polygon fill=\"green\" stroke=\"green\" points=\"796.97,-854.67 802.21,-863.87 803.85,-853.4 796.97,-854.67\"/>\n",
       "</g>\n",
       "<!-- YAP1 -->\n",
       "<g id=\"node13\" class=\"node\">\n",
       "<title>YAP1</title>\n",
       "<ellipse fill=\"lightgray\" stroke=\"black\" cx=\"160.35\" cy=\"-522\" rx=\"34.39\" ry=\"18\"/>\n",
       "<text text-anchor=\"middle\" x=\"160.35\" y=\"-518.3\" font-family=\"Times,serif\" font-size=\"14.00\">YAP1</text>\n",
       "</g>\n",
       "<!-- CTNNA1&#45;&gt;YAP1 -->\n",
       "<g id=\"edge14\" class=\"edge\">\n",
       "<title>CTNNA1&#45;&gt;YAP1</title>\n",
       "<path fill=\"none\" stroke=\"red\" d=\"M55.25,-647.82C60.23,-628.75 70.3,-597.8 87.35,-576 99.5,-560.46 117.37,-547.38 132.38,-538.1\"/>\n",
       "<polygon fill=\"red\" stroke=\"red\" points=\"133.5,-531.58 138.67,-540.14 136.96,-541.18 131.79,-532.62 133.5,-531.58\"/>\n",
       "<polyline fill=\"none\" stroke=\"red\" points=\"136.94,-535.35 132.66,-537.93 \"/>\n",
       "</g>\n",
       "<!-- SGK1 -->\n",
       "<g id=\"node14\" class=\"node\">\n",
       "<title>SGK1</title>\n",
       "<ellipse fill=\"lightgray\" stroke=\"black\" cx=\"339.35\" cy=\"-450\" rx=\"37.09\" ry=\"18\"/>\n",
       "<text text-anchor=\"middle\" x=\"339.35\" y=\"-446.3\" font-family=\"Times,serif\" font-size=\"14.00\">SGK1</text>\n",
       "</g>\n",
       "<!-- YAP1&#45;&gt;SGK1 -->\n",
       "<g id=\"edge15\" class=\"edge\">\n",
       "<title>YAP1&#45;&gt;SGK1</title>\n",
       "<path fill=\"none\" stroke=\"green\" d=\"M187.14,-510.52C217.59,-498.61 267.49,-479.1 301.81,-465.68\"/>\n",
       "<polygon fill=\"green\" stroke=\"green\" points=\"303.44,-468.8 311.48,-461.9 300.89,-462.28 303.44,-468.8\"/>\n",
       "</g>\n",
       "<!-- SMO -->\n",
       "<g id=\"node15\" class=\"node\">\n",
       "<title>SMO</title>\n",
       "<ellipse fill=\"lightgray\" stroke=\"black\" cx=\"393.35\" cy=\"-378\" rx=\"33.6\" ry=\"18\"/>\n",
       "<text text-anchor=\"middle\" x=\"393.35\" y=\"-374.3\" font-family=\"Times,serif\" font-size=\"14.00\">SMO</text>\n",
       "</g>\n",
       "<!-- SGK1&#45;&gt;SMO -->\n",
       "<g id=\"edge16\" class=\"edge\">\n",
       "<title>SGK1&#45;&gt;SMO</title>\n",
       "<path fill=\"none\" stroke=\"red\" d=\"M351.87,-432.76C359.57,-422.78 369.5,-409.91 377.72,-399.26\"/>\n",
       "<polygon fill=\"red\" stroke=\"red\" points=\"376.32,-392.89 384.24,-398.99 383.02,-400.58 375.1,-394.47 376.32,-392.89\"/>\n",
       "<polyline fill=\"none\" stroke=\"red\" points=\"380.89,-395.15 377.83,-399.11 \"/>\n",
       "</g>\n",
       "<!-- SGK1&#45;&gt;CDKN1B -->\n",
       "<g id=\"edge47\" class=\"edge\">\n",
       "<title>SGK1&#45;&gt;CDKN1B</title>\n",
       "<path fill=\"none\" stroke=\"red\" d=\"M325.5,-433.12C316.86,-423.2 305.65,-410.33 296.32,-399.63\"/>\n",
       "<polygon fill=\"red\" stroke=\"red\" points=\"289.87,-399.84 297.41,-393.27 298.72,-394.77 291.18,-401.34 289.87,-399.84\"/>\n",
       "<polyline fill=\"none\" stroke=\"red\" points=\"292.98,-395.8 296.27,-399.57 \"/>\n",
       "</g>\n",
       "<!-- SMO&#45;&gt;SRC -->\n",
       "<g id=\"edge17\" class=\"edge\">\n",
       "<title>SMO&#45;&gt;SRC</title>\n",
       "<path fill=\"none\" stroke=\"green\" d=\"M392.35,-396.12C391.17,-414.09 388.92,-443.12 385.35,-468 372.67,-556.35 346.35,-575.75 346.35,-665 346.35,-811 346.35,-811 346.35,-811 346.35,-851.36 353.98,-897.61 359.57,-926.06\"/>\n",
       "<polygon fill=\"green\" stroke=\"green\" points=\"356.18,-926.94 361.59,-936.05 363.04,-925.55 356.18,-926.94\"/>\n",
       "</g>\n",
       "<!-- MAPK14 -->\n",
       "<g id=\"node17\" class=\"node\">\n",
       "<title>MAPK14</title>\n",
       "<ellipse fill=\"lightgray\" stroke=\"black\" cx=\"463.35\" cy=\"-666\" rx=\"51.19\" ry=\"18\"/>\n",
       "<text text-anchor=\"middle\" x=\"463.35\" y=\"-662.3\" font-family=\"Times,serif\" font-size=\"14.00\">MAPK14</text>\n",
       "</g>\n",
       "<!-- SIGNOR&#45;C21&#45;&gt;MAPK14 -->\n",
       "<g id=\"edge19\" class=\"edge\">\n",
       "<title>SIGNOR&#45;C21&#45;&gt;MAPK14</title>\n",
       "<path fill=\"none\" stroke=\"green\" d=\"M589.94,-792.1C574.13,-773.81 547.75,-744.05 523.35,-720 512.85,-709.66 500.76,-698.8 490.2,-689.62\"/>\n",
       "<polygon fill=\"green\" stroke=\"green\" points=\"492.33,-686.84 482.47,-682.96 487.76,-692.14 492.33,-686.84\"/>\n",
       "</g>\n",
       "<!-- KHSRP -->\n",
       "<g id=\"node18\" class=\"node\">\n",
       "<title>KHSRP</title>\n",
       "<ellipse fill=\"lightgray\" stroke=\"black\" cx=\"556.35\" cy=\"-522\" rx=\"44.69\" ry=\"18\"/>\n",
       "<text text-anchor=\"middle\" x=\"556.35\" y=\"-518.3\" font-family=\"Times,serif\" font-size=\"14.00\">KHSRP</text>\n",
       "</g>\n",
       "<!-- MAPK14&#45;&gt;KHSRP -->\n",
       "<g id=\"edge20\" class=\"edge\">\n",
       "<title>MAPK14&#45;&gt;KHSRP</title>\n",
       "<path fill=\"none\" stroke=\"red\" d=\"M492.4,-650.98C508.05,-641.96 526.35,-628.79 537.35,-612 550.48,-591.94 554.72,-564.4 555.99,-545.28\"/>\n",
       "<polygon fill=\"red\" stroke=\"red\" points=\"551.23,-540.85 561.22,-541.41 561.11,-543.4 551.12,-542.85 551.23,-540.85\"/>\n",
       "<polyline fill=\"none\" stroke=\"red\" points=\"556.28,-540.13 556,-545.12 \"/>\n",
       "</g>\n",
       "<!-- MAPK14&#45;&gt;SIGNOR&#45;PF24 -->\n",
       "<g id=\"edge48\" class=\"edge\">\n",
       "<title>MAPK14&#45;&gt;SIGNOR&#45;PF24</title>\n",
       "<path fill=\"none\" stroke=\"purple\" d=\"M454.56,-648.05C452.59,-640.94 450.87,-632.45 449.71,-624.37\"/>\n",
       "<polygon fill=\"purple\" stroke=\"purple\" points=\"449.69,-624.21 445.07,-618.67 448.39,-612.28 453.02,-617.81 449.69,-624.21\"/>\n",
       "</g>\n",
       "<!-- KHSRP&#45;&gt;SRC -->\n",
       "<g id=\"edge21\" class=\"edge\">\n",
       "<title>KHSRP&#45;&gt;SRC</title>\n",
       "<path fill=\"none\" stroke=\"green\" d=\"M586.09,-535.55C629.05,-555.89 703.35,-600.42 703.35,-665 703.35,-811 703.35,-811 703.35,-811 703.35,-938.65 495.89,-953.45 406.04,-953.87\"/>\n",
       "<polygon fill=\"green\" stroke=\"green\" points=\"405.94,-950.37 395.94,-953.85 405.93,-957.37 405.94,-950.37\"/>\n",
       "</g>\n",
       "<!-- SIGNOR&#45;PF24&#45;&gt;YAP1 -->\n",
       "<g id=\"edge44\" class=\"edge\">\n",
       "<title>SIGNOR&#45;PF24&#45;&gt;YAP1</title>\n",
       "<path fill=\"none\" stroke=\"red\" d=\"M399.66,-580.57C341.07,-566.47 247.13,-543.87 196.11,-531.6\"/>\n",
       "<polygon fill=\"red\" stroke=\"red\" points=\"190.81,-535.47 193.15,-525.75 195.1,-526.22 192.76,-535.94 190.81,-535.47\"/>\n",
       "<polyline fill=\"none\" stroke=\"red\" points=\"191.01,-530.38 195.87,-531.55 \"/>\n",
       "</g>\n",
       "<!-- SIGNOR&#45;PF24&#45;&gt;MAPK14 -->\n",
       "<g id=\"edge49\" class=\"edge\">\n",
       "<title>SIGNOR&#45;PF24&#45;&gt;MAPK14</title>\n",
       "<path fill=\"none\" stroke=\"red\" d=\"M460.17,-612.1C462.72,-621.31 464.83,-632.78 465.86,-642.68\"/>\n",
       "<polygon fill=\"red\" stroke=\"red\" points=\"471.19,-646.27 461.23,-647.13 461.05,-645.14 471.02,-644.27 471.19,-646.27\"/>\n",
       "<polyline fill=\"none\" stroke=\"red\" points=\"466.29,-647.7 465.86,-642.72 \"/>\n",
       "</g>\n",
       "<!-- SIGNOR&#45;PF24&#45;&gt;KHSRP -->\n",
       "<g id=\"edge50\" class=\"edge\">\n",
       "<title>SIGNOR&#45;PF24&#45;&gt;KHSRP</title>\n",
       "<path fill=\"none\" stroke=\"red\" d=\"M475.7,-576.76C491.87,-565.98 513.1,-551.83 529.71,-540.75\"/>\n",
       "<polygon fill=\"red\" stroke=\"red\" points=\"530.66,-534.11 536.21,-542.43 534.55,-543.54 529,-535.22 530.66,-534.11\"/>\n",
       "<polyline fill=\"none\" stroke=\"red\" points=\"534.27,-537.72 530.11,-540.49 \"/>\n",
       "</g>\n",
       "<!-- VIM -->\n",
       "<g id=\"node20\" class=\"node\">\n",
       "<title>VIM</title>\n",
       "<ellipse fill=\"lightyellow\" stroke=\"black\" cx=\"379.35\" cy=\"-234\" rx=\"29.8\" ry=\"18\"/>\n",
       "<text text-anchor=\"middle\" x=\"379.35\" y=\"-230.3\" font-family=\"Times,serif\" font-size=\"14.00\">VIM</text>\n",
       "</g>\n",
       "<!-- SIGNOR&#45;PF24&#45;&gt;VIM -->\n",
       "<g id=\"edge23\" class=\"edge\">\n",
       "<title>SIGNOR&#45;PF24&#45;&gt;VIM</title>\n",
       "<path fill=\"none\" stroke=\"green\" d=\"M457.21,-575.74C465.69,-549.25 480.35,-496.79 480.35,-451 480.35,-451 480.35,-451 480.35,-377 480.35,-325.57 435.8,-279.82 405.87,-254.89\"/>\n",
       "<polygon fill=\"green\" stroke=\"green\" points=\"407.85,-251.99 397.87,-248.42 403.45,-257.43 407.85,-251.99\"/>\n",
       "</g>\n",
       "<!-- SIGNOR&#45;PF24&#45;&gt;CDKN1B -->\n",
       "<g id=\"edge51\" class=\"edge\">\n",
       "<title>SIGNOR&#45;PF24&#45;&gt;CDKN1B</title>\n",
       "<path fill=\"none\" stroke=\"red\" d=\"M448.45,-575.8C442.24,-543.78 424.88,-474.44 385.35,-432 368.07,-413.46 342.89,-400.54 321.3,-392.1\"/>\n",
       "<polygon fill=\"red\" stroke=\"red\" points=\"315.62,-395.29 319.18,-385.94 321.05,-386.65 317.49,-396 315.62,-395.29\"/>\n",
       "<polyline fill=\"none\" stroke=\"red\" points=\"316.47,-390.26 321.14,-392.04 \"/>\n",
       "</g>\n",
       "<!-- MAP4K4 -->\n",
       "<g id=\"node21\" class=\"node\">\n",
       "<title>MAP4K4</title>\n",
       "<ellipse fill=\"lightyellow\" stroke=\"black\" cx=\"463.35\" cy=\"-882\" rx=\"51.19\" ry=\"18\"/>\n",
       "<text text-anchor=\"middle\" x=\"463.35\" y=\"-878.3\" font-family=\"Times,serif\" font-size=\"14.00\">MAP4K4</text>\n",
       "</g>\n",
       "<!-- MAP3K7 -->\n",
       "<g id=\"node22\" class=\"node\">\n",
       "<title>MAP3K7</title>\n",
       "<ellipse fill=\"lightgray\" stroke=\"black\" cx=\"463.35\" cy=\"-810\" rx=\"51.19\" ry=\"18\"/>\n",
       "<text text-anchor=\"middle\" x=\"463.35\" y=\"-806.3\" font-family=\"Times,serif\" font-size=\"14.00\">MAP3K7</text>\n",
       "</g>\n",
       "<!-- MAP4K4&#45;&gt;MAP3K7 -->\n",
       "<g id=\"edge24\" class=\"edge\">\n",
       "<title>MAP4K4&#45;&gt;MAP3K7</title>\n",
       "<path fill=\"none\" stroke=\"green\" d=\"M463.35,-863.7C463.35,-855.98 463.35,-846.71 463.35,-838.11\"/>\n",
       "<polygon fill=\"green\" stroke=\"green\" points=\"466.85,-838.1 463.35,-828.1 459.85,-838.1 466.85,-838.1\"/>\n",
       "</g>\n",
       "<!-- MAP2K3 -->\n",
       "<g id=\"node23\" class=\"node\">\n",
       "<title>MAP2K3</title>\n",
       "<ellipse fill=\"lightgray\" stroke=\"black\" cx=\"463.35\" cy=\"-738\" rx=\"51.19\" ry=\"18\"/>\n",
       "<text text-anchor=\"middle\" x=\"463.35\" y=\"-734.3\" font-family=\"Times,serif\" font-size=\"14.00\">MAP2K3</text>\n",
       "</g>\n",
       "<!-- MAP3K7&#45;&gt;MAP2K3 -->\n",
       "<g id=\"edge25\" class=\"edge\">\n",
       "<title>MAP3K7&#45;&gt;MAP2K3</title>\n",
       "<path fill=\"none\" stroke=\"green\" d=\"M463.35,-791.7C463.35,-783.98 463.35,-774.71 463.35,-766.11\"/>\n",
       "<polygon fill=\"green\" stroke=\"green\" points=\"466.85,-766.1 463.35,-756.1 459.85,-766.1 466.85,-766.1\"/>\n",
       "</g>\n",
       "<!-- MAP2K3&#45;&gt;MAPK14 -->\n",
       "<g id=\"edge26\" class=\"edge\">\n",
       "<title>MAP2K3&#45;&gt;MAPK14</title>\n",
       "<path fill=\"none\" stroke=\"green\" d=\"M463.35,-719.7C463.35,-711.98 463.35,-702.71 463.35,-694.11\"/>\n",
       "<polygon fill=\"green\" stroke=\"green\" points=\"466.85,-694.1 463.35,-684.1 459.85,-694.1 466.85,-694.1\"/>\n",
       "</g>\n",
       "<!-- LATS1 -->\n",
       "<g id=\"node24\" class=\"node\">\n",
       "<title>LATS1</title>\n",
       "<ellipse fill=\"lightyellow\" stroke=\"black\" cx=\"190.35\" cy=\"-234\" rx=\"40.09\" ry=\"18\"/>\n",
       "<text text-anchor=\"middle\" x=\"190.35\" y=\"-230.3\" font-family=\"Times,serif\" font-size=\"14.00\">LATS1</text>\n",
       "</g>\n",
       "<!-- LATS1&#45;&gt;YAP1 -->\n",
       "<g id=\"edge37\" class=\"edge\">\n",
       "<title>LATS1&#45;&gt;YAP1</title>\n",
       "<path fill=\"none\" stroke=\"red\" d=\"M188.53,-252.31C183.34,-301.81 168.43,-443.95 162.66,-498.92\"/>\n",
       "<polygon fill=\"red\" stroke=\"red\" points=\"167.21,-503.49 157.26,-502.45 157.47,-500.46 167.42,-501.5 167.21,-503.49\"/>\n",
       "<polyline fill=\"none\" stroke=\"red\" points=\"162.13,-503.97 162.65,-498.99 \"/>\n",
       "</g>\n",
       "<!-- VEPH1 -->\n",
       "<g id=\"node25\" class=\"node\">\n",
       "<title>VEPH1</title>\n",
       "<ellipse fill=\"lightgray\" stroke=\"black\" cx=\"190.35\" cy=\"-162\" rx=\"44.39\" ry=\"18\"/>\n",
       "<text text-anchor=\"middle\" x=\"190.35\" y=\"-158.3\" font-family=\"Times,serif\" font-size=\"14.00\">VEPH1</text>\n",
       "</g>\n",
       "<!-- LATS1&#45;&gt;VEPH1 -->\n",
       "<g id=\"edge27\" class=\"edge\">\n",
       "<title>LATS1&#45;&gt;VEPH1</title>\n",
       "<path fill=\"none\" stroke=\"red\" d=\"M184.47,-216.05C183.49,-206.82 183.33,-195.28 184.01,-185.32\"/>\n",
       "<polygon fill=\"red\" stroke=\"red\" points=\"179.37,-180.85 189.33,-181.69 189.16,-183.69 179.2,-182.84 179.37,-180.85\"/>\n",
       "<polyline fill=\"none\" stroke=\"red\" points=\"184.43,-180.28 184.01,-185.26 \"/>\n",
       "</g>\n",
       "<!-- VEPH1&#45;&gt;YAP1 -->\n",
       "<g id=\"edge45\" class=\"edge\">\n",
       "<title>VEPH1&#45;&gt;YAP1</title>\n",
       "<path fill=\"none\" stroke=\"green\" d=\"M171.87,-178.37C161.36,-188.1 148.84,-201.54 141.35,-216 122.73,-251.91 122.35,-264.55 122.35,-305 122.35,-379 122.35,-379 122.35,-379 122.35,-420.59 137.75,-466.78 148.94,-494.86\"/>\n",
       "<polygon fill=\"green\" stroke=\"green\" points=\"145.8,-496.42 152.84,-504.34 152.27,-493.76 145.8,-496.42\"/>\n",
       "</g>\n",
       "<!-- VEPH1&#45;&gt;LATS1 -->\n",
       "<g id=\"edge38\" class=\"edge\">\n",
       "<title>VEPH1&#45;&gt;LATS1</title>\n",
       "<path fill=\"none\" stroke=\"red\" d=\"M196.26,-180.28C197.22,-189.56 197.35,-201.12 196.66,-211.04\"/>\n",
       "<polygon fill=\"red\" stroke=\"red\" points=\"201.29,-215.49 191.33,-214.62 191.5,-212.63 201.47,-213.5 201.29,-215.49\"/>\n",
       "<polyline fill=\"none\" stroke=\"red\" points=\"196.22,-216.05 196.66,-211.07 \"/>\n",
       "</g>\n",
       "<!-- LATS2 -->\n",
       "<g id=\"node26\" class=\"node\">\n",
       "<title>LATS2</title>\n",
       "<ellipse fill=\"lightyellow\" stroke=\"black\" cx=\"190.35\" cy=\"-90\" rx=\"40.09\" ry=\"18\"/>\n",
       "<text text-anchor=\"middle\" x=\"190.35\" y=\"-86.3\" font-family=\"Times,serif\" font-size=\"14.00\">LATS2</text>\n",
       "</g>\n",
       "<!-- VEPH1&#45;&gt;LATS2 -->\n",
       "<g id=\"edge28\" class=\"edge\">\n",
       "<title>VEPH1&#45;&gt;LATS2</title>\n",
       "<path fill=\"none\" stroke=\"red\" d=\"M184.47,-144.05C183.49,-134.82 183.33,-123.28 184.01,-113.32\"/>\n",
       "<polygon fill=\"red\" stroke=\"red\" points=\"179.37,-108.85 189.33,-109.69 189.16,-111.69 179.2,-110.84 179.37,-108.85\"/>\n",
       "<polyline fill=\"none\" stroke=\"red\" points=\"184.43,-108.28 184.01,-113.26 \"/>\n",
       "</g>\n",
       "<!-- LATS2&#45;&gt;YAP1 -->\n",
       "<g id=\"edge39\" class=\"edge\">\n",
       "<title>LATS2&#45;&gt;YAP1</title>\n",
       "<path fill=\"none\" stroke=\"red\" d=\"M169.15,-105.51C138.22,-128.59 84.35,-176.86 84.35,-233 84.35,-379 84.35,-379 84.35,-379 84.35,-427.57 119.34,-475.61 141.83,-501.47\"/>\n",
       "<polygon fill=\"red\" stroke=\"red\" points=\"148.42,-501.37 140.92,-507.99 139.6,-506.49 147.09,-499.87 148.42,-501.37\"/>\n",
       "<polyline fill=\"none\" stroke=\"red\" points=\"145.33,-505.43 142.02,-501.68 \"/>\n",
       "</g>\n",
       "<!-- LATS2&#45;&gt;VEPH1 -->\n",
       "<g id=\"edge40\" class=\"edge\">\n",
       "<title>LATS2&#45;&gt;VEPH1</title>\n",
       "<path fill=\"none\" stroke=\"red\" d=\"M196.26,-108.28C197.22,-117.56 197.35,-129.12 196.66,-139.04\"/>\n",
       "<polygon fill=\"red\" stroke=\"red\" points=\"201.29,-143.49 191.33,-142.62 191.5,-140.63 201.47,-141.5 201.29,-143.49\"/>\n",
       "<polyline fill=\"none\" stroke=\"red\" points=\"196.22,-144.05 196.66,-139.07 \"/>\n",
       "</g>\n",
       "<!-- AMOTL2 -->\n",
       "<g id=\"node27\" class=\"node\">\n",
       "<title>AMOTL2</title>\n",
       "<ellipse fill=\"lightgray\" stroke=\"black\" cx=\"190.35\" cy=\"-18\" rx=\"51.19\" ry=\"18\"/>\n",
       "<text text-anchor=\"middle\" x=\"190.35\" y=\"-14.3\" font-family=\"Times,serif\" font-size=\"14.00\">AMOTL2</text>\n",
       "</g>\n",
       "<!-- LATS2&#45;&gt;AMOTL2 -->\n",
       "<g id=\"edge29\" class=\"edge\">\n",
       "<title>LATS2&#45;&gt;AMOTL2</title>\n",
       "<path fill=\"none\" stroke=\"red\" d=\"M184.47,-72.05C183.49,-62.82 183.33,-51.28 184.01,-41.32\"/>\n",
       "<polygon fill=\"red\" stroke=\"red\" points=\"179.37,-36.85 189.33,-37.69 189.16,-39.69 179.2,-38.84 179.37,-36.85\"/>\n",
       "<polyline fill=\"none\" stroke=\"red\" points=\"184.43,-36.28 184.01,-41.26 \"/>\n",
       "</g>\n",
       "<!-- AMOTL2&#45;&gt;SRC -->\n",
       "<g id=\"edge30\" class=\"edge\">\n",
       "<title>AMOTL2&#45;&gt;SRC</title>\n",
       "<path fill=\"none\" stroke=\"green\" d=\"M241.91,-18.31C405.69,-17.47 903.35,-26.03 903.35,-161 903.35,-811 903.35,-811 903.35,-811 903.35,-857.04 889.07,-875.11 850.35,-900 777.15,-947.05 509.08,-952.72 406.06,-953.12\"/>\n",
       "<polygon fill=\"green\" stroke=\"green\" points=\"406.03,-949.62 396.04,-953.14 406.05,-956.62 406.03,-949.62\"/>\n",
       "</g>\n",
       "<!-- AMOTL2&#45;&gt;LATS2 -->\n",
       "<g id=\"edge41\" class=\"edge\">\n",
       "<title>AMOTL2&#45;&gt;LATS2</title>\n",
       "<path fill=\"none\" stroke=\"green\" d=\"M196.26,-36.28C197.06,-44.03 197.29,-53.36 196.94,-62.01\"/>\n",
       "<polygon fill=\"green\" stroke=\"green\" points=\"193.44,-61.83 196.22,-72.05 200.42,-62.33 193.44,-61.83\"/>\n",
       "</g>\n",
       "<!-- CDK1 -->\n",
       "<g id=\"node29\" class=\"node\">\n",
       "<title>CDK1</title>\n",
       "<ellipse fill=\"lightgray\" stroke=\"black\" cx=\"278.35\" cy=\"-306\" rx=\"37.89\" ry=\"18\"/>\n",
       "<text text-anchor=\"middle\" x=\"278.35\" y=\"-302.3\" font-family=\"Times,serif\" font-size=\"14.00\">CDK1</text>\n",
       "</g>\n",
       "<!-- CDKN1B&#45;&gt;CDK1 -->\n",
       "<g id=\"edge32\" class=\"edge\">\n",
       "<title>CDKN1B&#45;&gt;CDK1</title>\n",
       "<path fill=\"none\" stroke=\"red\" d=\"M272.47,-360.05C271.47,-350.68 271.33,-338.93 272.04,-328.87\"/>\n",
       "<polygon fill=\"red\" stroke=\"red\" points=\"267.42,-324.35 277.38,-325.22 277.2,-327.22 267.24,-326.34 267.42,-324.35\"/>\n",
       "<polyline fill=\"none\" stroke=\"red\" points=\"272.48,-323.79 272.05,-328.77 \"/>\n",
       "</g>\n",
       "<!-- CDK1&#45;&gt;YAP1 -->\n",
       "<g id=\"edge46\" class=\"edge\">\n",
       "<title>CDK1&#45;&gt;YAP1</title>\n",
       "<path fill=\"none\" stroke=\"green\" d=\"M257.2,-321.05C244.14,-330.67 227.93,-344.46 217.35,-360 202.14,-382.33 179.7,-454.44 168.03,-494.15\"/>\n",
       "<polygon fill=\"green\" stroke=\"green\" points=\"164.61,-493.38 165.17,-503.96 171.33,-495.34 164.61,-493.38\"/>\n",
       "</g>\n",
       "<!-- CDK1&#45;&gt;VIM -->\n",
       "<g id=\"edge36\" class=\"edge\">\n",
       "<title>CDK1&#45;&gt;VIM</title>\n",
       "<path fill=\"none\" stroke=\"red\" d=\"M298.78,-290.83C315.36,-279.34 338.74,-263.14 356.04,-251.15\"/>\n",
       "<polygon fill=\"red\" stroke=\"red\" points=\"356.63,-244.66 362.33,-252.88 360.69,-254.02 354.99,-245.8 356.63,-244.66\"/>\n",
       "<polyline fill=\"none\" stroke=\"red\" points=\"360.3,-248.2 356.19,-251.05 \"/>\n",
       "</g>\n",
       "<!-- CDK1&#45;&gt;LATS1 -->\n",
       "<g id=\"edge33\" class=\"edge\">\n",
       "<title>CDK1&#45;&gt;LATS1</title>\n",
       "<path fill=\"none\" stroke=\"green\" d=\"M259.68,-290.15C247.4,-280.38 231.12,-267.43 217.42,-256.54\"/>\n",
       "<polygon fill=\"green\" stroke=\"green\" points=\"219.29,-253.55 209.28,-250.07 214.93,-259.03 219.29,-253.55\"/>\n",
       "</g>\n",
       "<!-- CDK1&#45;&gt;CDKN1B -->\n",
       "<g id=\"edge52\" class=\"edge\">\n",
       "<title>CDK1&#45;&gt;CDKN1B</title>\n",
       "<path fill=\"none\" stroke=\"red\" d=\"M284.21,-323.79C285.21,-333.13 285.36,-344.88 284.67,-354.96\"/>\n",
       "<polygon fill=\"red\" stroke=\"red\" points=\"289.29,-359.49 279.33,-358.63 279.5,-356.63 289.46,-357.5 289.29,-359.49\"/>\n",
       "<polyline fill=\"none\" stroke=\"red\" points=\"284.22,-360.05 284.66,-355.07 \"/>\n",
       "</g>\n",
       "</g>\n",
       "</svg>\n"
      ],
      "text/plain": [
       "<graphviz.dot.Digraph at 0x7b1b1307d990>"
      ]
     },
     "metadata": {},
     "output_type": "display_data"
    }
   ],
   "source": [
    "#Visualize network\n",
    "visualizer1 = NetworkVisualizer(new_net1, color_by='effect', noi=True)\n",
    "visualizer1.render()"
   ]
  },
  {
   "cell_type": "markdown",
   "id": "72fd1618-7eb2-4084-8bc5-af27f55afcef",
   "metadata": {},
   "source": [
    "## 4. Translate IDs "
   ]
  },
  {
   "cell_type": "markdown",
   "id": "7a604021-9539-4dce-beff-8395b3209a7b",
   "metadata": {},
   "source": [
    "NeKo's resource object relies on UniProt IDs. In cases where the user-defined database does not have UniProt IDs, NeKo offers the function to translate between different IDs. The translation module is based on the python package \"Unipressed\" (https://github.com/multimeric/Unipressed).\n",
    "\n",
    "In the example below, we use the HURI database (http://www.interactome-atlas.org/) which provides protein-protein interactions (ppi) with ENSEMBL IDs.\n",
    "\n",
    "To run the following example, please download the database at the following link: http://www.interactome-atlas.org/download. The example uses the `HI-Union` version of the database in `.tsv` format."
   ]
  },
  {
   "cell_type": "code",
   "execution_count": 13,
   "id": "66a43b3a-4fd6-4aa4-924d-d103b6717ab3",
   "metadata": {},
   "outputs": [],
   "source": [
    "#Import the module\n",
    "from neko.inputs.db_translator import IDTranslator"
   ]
  },
  {
   "cell_type": "markdown",
   "id": "34f940f0-552a-4660-a4fb-20f2e3463ca7",
   "metadata": {},
   "source": [
    "The `IDTranslator` function receives as arguments the input and output file names, together with the existing IDs and the target ones (in that case Ensembl to UniProtKB IDs).\n",
    "\n",
    "<div class=\"alert alert-info\">\n",
    "\n",
    "**Note**\n",
    "    \n",
    "NB! The `IDTranslator` can take several minutes the first time you translate a database, depending on the size of the database.\n",
    "</div>  "
   ]
  },
  {
   "cell_type": "code",
   "execution_count": 43,
   "id": "8fcdcd64-429d-40ec-8ec2-8d1d39c8b25f",
   "metadata": {},
   "outputs": [],
   "source": [
    "translator = IDTranslator('HI-union.tsv', 'genes_translated.csv', 'Ensembl', 'UniProtKB-Swiss-Prot', has_header=False, input_columns=['source', 'target'], processes=12)"
   ]
  },
  {
   "cell_type": "code",
   "execution_count": 44,
   "id": "c5c4cb0e-608d-49b5-9819-ed398600f642",
   "metadata": {},
   "outputs": [
    {
     "data": {
      "text/html": [
       "<pre>2024-07-22 12:03:12,217 - IDTranslator_140412855874560 - INFO - Starting ID translation process from Ensembl to UniProtKB-Swiss-Prot</pre>"
      ],
      "text/plain": [
       "<IPython.core.display.HTML object>"
      ]
     },
     "metadata": {},
     "output_type": "display_data"
    },
    {
     "name": "stderr",
     "output_type": "stream",
     "text": [
      "INFO:IDTranslator_140412855874560:Starting ID translation process from Ensembl to UniProtKB-Swiss-Prot\n"
     ]
    },
    {
     "data": {
      "text/html": [
       "<pre>2024-07-22 12:03:12,301 - IDTranslator_140412855874560 - INFO - Loaded 64006 rows with 9094 unique IDs</pre>"
      ],
      "text/plain": [
       "<IPython.core.display.HTML object>"
      ]
     },
     "metadata": {},
     "output_type": "display_data"
    },
    {
     "name": "stderr",
     "output_type": "stream",
     "text": [
      "INFO:IDTranslator_140412855874560:Loaded 64006 rows with 9094 unique IDs\n"
     ]
    },
    {
     "data": {
      "text/html": [
       "<pre>2024-07-22 12:03:12,314 - IDTranslator_140412855874560 - INFO - Loaded progress from checkpoint_batch_91.pkl</pre>"
      ],
      "text/plain": [
       "<IPython.core.display.HTML object>"
      ]
     },
     "metadata": {},
     "output_type": "display_data"
    },
    {
     "name": "stderr",
     "output_type": "stream",
     "text": [
      "INFO:IDTranslator_140412855874560:Loaded progress from checkpoint_batch_91.pkl\n"
     ]
    },
    {
     "data": {
      "application/vnd.jupyter.widget-view+json": {
       "model_id": "ea6e682b70b54a9f85465f17641d929e",
       "version_major": 2,
       "version_minor": 0
      },
      "text/plain": [
       "Processing batches: 0it [00:00, ?it/s]"
      ]
     },
     "metadata": {},
     "output_type": "display_data"
    },
    {
     "data": {
      "text/html": [
       "<pre>2024-07-22 12:03:12,627 - IDTranslator_140412855874560 - INFO - Applying translation to dataframe...</pre>"
      ],
      "text/plain": [
       "<IPython.core.display.HTML object>"
      ]
     },
     "metadata": {},
     "output_type": "display_data"
    },
    {
     "name": "stderr",
     "output_type": "stream",
     "text": [
      "INFO:IDTranslator_140412855874560:Applying translation to dataframe...\n"
     ]
    },
    {
     "data": {
      "text/html": [
       "<pre>2024-07-22 12:05:01,954 - IDTranslator_140412855874560 - INFO - Results saved to genes_translated.csv</pre>"
      ],
      "text/plain": [
       "<IPython.core.display.HTML object>"
      ]
     },
     "metadata": {},
     "output_type": "display_data"
    },
    {
     "name": "stderr",
     "output_type": "stream",
     "text": [
      "INFO:IDTranslator_140412855874560:Results saved to genes_translated.csv\n"
     ]
    },
    {
     "data": {
      "text/html": [
       "<pre>2024-07-22 12:05:02,150 - IDTranslator_140412855874560 - INFO - ID translation process completed in 109.93 seconds</pre>"
      ],
      "text/plain": [
       "<IPython.core.display.HTML object>"
      ]
     },
     "metadata": {},
     "output_type": "display_data"
    },
    {
     "name": "stderr",
     "output_type": "stream",
     "text": [
      "INFO:IDTranslator_140412855874560:ID translation process completed in 109.93 seconds\n"
     ]
    },
    {
     "data": {
      "text/html": [
       "<pre>2024-07-22 12:05:02,170 - IDTranslator_140412855874560 - INFO - Original entry count: 64065</pre>"
      ],
      "text/plain": [
       "<IPython.core.display.HTML object>"
      ]
     },
     "metadata": {},
     "output_type": "display_data"
    },
    {
     "name": "stderr",
     "output_type": "stream",
     "text": [
      "INFO:IDTranslator_140412855874560:Original entry count: 64065\n"
     ]
    },
    {
     "data": {
      "text/html": [
       "<pre>2024-07-22 12:05:02,173 - IDTranslator_140412855874560 - INFO - Translated entry count: 64065</pre>"
      ],
      "text/plain": [
       "<IPython.core.display.HTML object>"
      ]
     },
     "metadata": {},
     "output_type": "display_data"
    },
    {
     "name": "stderr",
     "output_type": "stream",
     "text": [
      "INFO:IDTranslator_140412855874560:Translated entry count: 64065\n"
     ]
    },
    {
     "data": {
      "text/html": [
       "<pre>2024-07-22 12:05:02,178 - IDTranslator_140412855874560 - INFO - Expansion factor: 1.00</pre>"
      ],
      "text/plain": [
       "<IPython.core.display.HTML object>"
      ]
     },
     "metadata": {},
     "output_type": "display_data"
    },
    {
     "name": "stderr",
     "output_type": "stream",
     "text": [
      "INFO:IDTranslator_140412855874560:Expansion factor: 1.00\n"
     ]
    },
    {
     "data": {
      "text/html": [
       "<pre>2024-07-22 12:05:02,182 - IDTranslator_140412855874560 - INFO - Translation success rate: 100.00%</pre>"
      ],
      "text/plain": [
       "<IPython.core.display.HTML object>"
      ]
     },
     "metadata": {},
     "output_type": "display_data"
    },
    {
     "name": "stderr",
     "output_type": "stream",
     "text": [
      "INFO:IDTranslator_140412855874560:Translation success rate: 100.00%\n"
     ]
    },
    {
     "name": "stdout",
     "output_type": "stream",
     "text": [
      "CPU times: user 1min 49s, sys: 727 ms, total: 1min 49s\n",
      "Wall time: 1min 49s\n"
     ]
    }
   ],
   "source": [
    "%%time\n",
    "translator.run()"
   ]
  },
  {
   "cell_type": "code",
   "execution_count": 45,
   "id": "273c86d0-d929-4c2b-8712-f303ffd497ee",
   "metadata": {},
   "outputs": [
    {
     "data": {
      "text/html": [
       "<pre>2024-07-22 12:05:02,439 - IDTranslator_140412855874560 - INFO - Results saved to genes_translated_cleaned.csv</pre>"
      ],
      "text/plain": [
       "<IPython.core.display.HTML object>"
      ]
     },
     "metadata": {},
     "output_type": "display_data"
    },
    {
     "name": "stderr",
     "output_type": "stream",
     "text": [
      "INFO:IDTranslator_140412855874560:Results saved to genes_translated_cleaned.csv\n"
     ]
    },
    {
     "data": {
      "text/html": [
       "<pre>2024-07-22 12:05:02,442 - IDTranslator_140412855874560 - INFO - Removed 0 untranslated entries.</pre>"
      ],
      "text/plain": [
       "<IPython.core.display.HTML object>"
      ]
     },
     "metadata": {},
     "output_type": "display_data"
    },
    {
     "name": "stderr",
     "output_type": "stream",
     "text": [
      "INFO:IDTranslator_140412855874560:Removed 0 untranslated entries.\n"
     ]
    },
    {
     "data": {
      "text/html": [
       "<pre>2024-07-22 12:05:02,446 - IDTranslator_140412855874560 - INFO - Cleaned database saved to genes_translated_cleaned.csv</pre>"
      ],
      "text/plain": [
       "<IPython.core.display.HTML object>"
      ]
     },
     "metadata": {},
     "output_type": "display_data"
    },
    {
     "name": "stderr",
     "output_type": "stream",
     "text": [
      "INFO:IDTranslator_140412855874560:Cleaned database saved to genes_translated_cleaned.csv\n"
     ]
    },
    {
     "data": {
      "text/html": [
       "<pre>2024-07-22 12:05:02,450 - IDTranslator_140412855874560 - INFO - Original entry count: 64065</pre>"
      ],
      "text/plain": [
       "<IPython.core.display.HTML object>"
      ]
     },
     "metadata": {},
     "output_type": "display_data"
    },
    {
     "name": "stderr",
     "output_type": "stream",
     "text": [
      "INFO:IDTranslator_140412855874560:Original entry count: 64065\n"
     ]
    },
    {
     "data": {
      "text/html": [
       "<pre>2024-07-22 12:05:02,453 - IDTranslator_140412855874560 - INFO - Cleaned entry count: 64065</pre>"
      ],
      "text/plain": [
       "<IPython.core.display.HTML object>"
      ]
     },
     "metadata": {},
     "output_type": "display_data"
    },
    {
     "name": "stderr",
     "output_type": "stream",
     "text": [
      "INFO:IDTranslator_140412855874560:Cleaned entry count: 64065\n"
     ]
    },
    {
     "data": {
      "text/html": [
       "<pre>2024-07-22 12:05:02,472 - IDTranslator_140412855874560 - INFO - Original entry count: 64065</pre>"
      ],
      "text/plain": [
       "<IPython.core.display.HTML object>"
      ]
     },
     "metadata": {},
     "output_type": "display_data"
    },
    {
     "name": "stderr",
     "output_type": "stream",
     "text": [
      "INFO:IDTranslator_140412855874560:Original entry count: 64065\n"
     ]
    },
    {
     "data": {
      "text/html": [
       "<pre>2024-07-22 12:05:02,475 - IDTranslator_140412855874560 - INFO - Translated entry count: 64065</pre>"
      ],
      "text/plain": [
       "<IPython.core.display.HTML object>"
      ]
     },
     "metadata": {},
     "output_type": "display_data"
    },
    {
     "name": "stderr",
     "output_type": "stream",
     "text": [
      "INFO:IDTranslator_140412855874560:Translated entry count: 64065\n"
     ]
    },
    {
     "data": {
      "text/html": [
       "<pre>2024-07-22 12:05:02,479 - IDTranslator_140412855874560 - INFO - Expansion factor: 1.00</pre>"
      ],
      "text/plain": [
       "<IPython.core.display.HTML object>"
      ]
     },
     "metadata": {},
     "output_type": "display_data"
    },
    {
     "name": "stderr",
     "output_type": "stream",
     "text": [
      "INFO:IDTranslator_140412855874560:Expansion factor: 1.00\n"
     ]
    },
    {
     "data": {
      "text/html": [
       "<pre>2024-07-22 12:05:02,483 - IDTranslator_140412855874560 - INFO - Translation success rate: 100.00%</pre>"
      ],
      "text/plain": [
       "<IPython.core.display.HTML object>"
      ]
     },
     "metadata": {},
     "output_type": "display_data"
    },
    {
     "name": "stderr",
     "output_type": "stream",
     "text": [
      "INFO:IDTranslator_140412855874560:Translation success rate: 100.00%\n"
     ]
    }
   ],
   "source": [
    "translator.remove_untranslated_entries()"
   ]
  },
  {
   "cell_type": "code",
   "execution_count": 14,
   "id": "1865e7f6-251f-43eb-9c5d-1be75c07f9c1",
   "metadata": {},
   "outputs": [],
   "source": [
    "huri = pd.read_csv(\"genes_translated_cleaned.csv\", usecols=[\"source_UniProtKB-Swiss-Prot\", \"target_UniProtKB-Swiss-Prot\"])"
   ]
  },
  {
   "cell_type": "code",
   "execution_count": 15,
   "id": "a791bd79-37ac-451d-a683-b4446fc501b7",
   "metadata": {},
   "outputs": [
    {
     "data": {
      "text/html": [
       "<div>\n",
       "<style scoped>\n",
       "    .dataframe tbody tr th:only-of-type {\n",
       "        vertical-align: middle;\n",
       "    }\n",
       "\n",
       "    .dataframe tbody tr th {\n",
       "        vertical-align: top;\n",
       "    }\n",
       "\n",
       "    .dataframe thead th {\n",
       "        text-align: right;\n",
       "    }\n",
       "</style>\n",
       "<table border=\"1\" class=\"dataframe\">\n",
       "  <thead>\n",
       "    <tr style=\"text-align: right;\">\n",
       "      <th></th>\n",
       "      <th>source_UniProtKB-Swiss-Prot</th>\n",
       "      <th>target_UniProtKB-Swiss-Prot</th>\n",
       "    </tr>\n",
       "  </thead>\n",
       "  <tbody>\n",
       "    <tr>\n",
       "      <th>0</th>\n",
       "      <td>Q9H2S6</td>\n",
       "      <td>Q9NPE6</td>\n",
       "    </tr>\n",
       "    <tr>\n",
       "      <th>1</th>\n",
       "      <td>Q9H2S6</td>\n",
       "      <td>Q9BXK5</td>\n",
       "    </tr>\n",
       "    <tr>\n",
       "      <th>2</th>\n",
       "      <td>Q9H2S6</td>\n",
       "      <td>O60238</td>\n",
       "    </tr>\n",
       "    <tr>\n",
       "      <th>3</th>\n",
       "      <td>Q9H2S6</td>\n",
       "      <td>P20138</td>\n",
       "    </tr>\n",
       "    <tr>\n",
       "      <th>4</th>\n",
       "      <td>Q9H2S6</td>\n",
       "      <td>Q9UM44</td>\n",
       "    </tr>\n",
       "  </tbody>\n",
       "</table>\n",
       "</div>"
      ],
      "text/plain": [
       "  source_UniProtKB-Swiss-Prot target_UniProtKB-Swiss-Prot\n",
       "0                      Q9H2S6                      Q9NPE6\n",
       "1                      Q9H2S6                      Q9BXK5\n",
       "2                      Q9H2S6                      O60238\n",
       "3                      Q9H2S6                      P20138\n",
       "4                      Q9H2S6                      Q9UM44"
      ]
     },
     "execution_count": 15,
     "metadata": {},
     "output_type": "execute_result"
    }
   ],
   "source": [
    "huri.head()"
   ]
  },
  {
   "cell_type": "code",
   "execution_count": 27,
   "id": "03c31d3f-da2a-4e37-8430-09f659c6325e",
   "metadata": {},
   "outputs": [],
   "source": [
    "resources = Universe()"
   ]
  },
  {
   "cell_type": "code",
   "execution_count": 28,
   "id": "3ff873f3-e984-4cd2-98e5-702190ffd49f",
   "metadata": {},
   "outputs": [],
   "source": [
    "mapping = {\"source_UniProtKB-Swiss-Prot\": \"source\", \"target_UniProtKB-Swiss-Prot\": \"target\"}\n",
    "resources.add_resources(huri, columns=mapping,  reset_index=True)"
   ]
  },
  {
   "cell_type": "code",
   "execution_count": 29,
   "id": "10d6767e-88a1-4e08-8797-2abcb1a7ef4c",
   "metadata": {},
   "outputs": [],
   "source": [
    "resources.build()"
   ]
  },
  {
   "cell_type": "code",
   "execution_count": 30,
   "id": "37922f45-b399-427a-a103-26fdfea2e751",
   "metadata": {},
   "outputs": [
    {
     "data": {
      "text/html": [
       "<div>\n",
       "<style scoped>\n",
       "    .dataframe tbody tr th:only-of-type {\n",
       "        vertical-align: middle;\n",
       "    }\n",
       "\n",
       "    .dataframe tbody tr th {\n",
       "        vertical-align: top;\n",
       "    }\n",
       "\n",
       "    .dataframe thead th {\n",
       "        text-align: right;\n",
       "    }\n",
       "</style>\n",
       "<table border=\"1\" class=\"dataframe\">\n",
       "  <thead>\n",
       "    <tr style=\"text-align: right;\">\n",
       "      <th></th>\n",
       "      <th>source</th>\n",
       "      <th>target</th>\n",
       "      <th>is_directed</th>\n",
       "      <th>is_stimulation</th>\n",
       "      <th>is_inhibition</th>\n",
       "      <th>form_complex</th>\n",
       "    </tr>\n",
       "  </thead>\n",
       "  <tbody>\n",
       "    <tr>\n",
       "      <th>0</th>\n",
       "      <td>Q9H2S6</td>\n",
       "      <td>Q9NPE6</td>\n",
       "      <td>False</td>\n",
       "      <td>False</td>\n",
       "      <td>False</td>\n",
       "      <td>False</td>\n",
       "    </tr>\n",
       "    <tr>\n",
       "      <th>1</th>\n",
       "      <td>Q9H2S6</td>\n",
       "      <td>Q9BXK5</td>\n",
       "      <td>False</td>\n",
       "      <td>False</td>\n",
       "      <td>False</td>\n",
       "      <td>False</td>\n",
       "    </tr>\n",
       "    <tr>\n",
       "      <th>2</th>\n",
       "      <td>Q9H2S6</td>\n",
       "      <td>O60238</td>\n",
       "      <td>False</td>\n",
       "      <td>False</td>\n",
       "      <td>False</td>\n",
       "      <td>False</td>\n",
       "    </tr>\n",
       "    <tr>\n",
       "      <th>3</th>\n",
       "      <td>Q9H2S6</td>\n",
       "      <td>P20138</td>\n",
       "      <td>False</td>\n",
       "      <td>False</td>\n",
       "      <td>False</td>\n",
       "      <td>False</td>\n",
       "    </tr>\n",
       "    <tr>\n",
       "      <th>4</th>\n",
       "      <td>Q9H2S6</td>\n",
       "      <td>Q9UM44</td>\n",
       "      <td>False</td>\n",
       "      <td>False</td>\n",
       "      <td>False</td>\n",
       "      <td>False</td>\n",
       "    </tr>\n",
       "    <tr>\n",
       "      <th>...</th>\n",
       "      <td>...</td>\n",
       "      <td>...</td>\n",
       "      <td>...</td>\n",
       "      <td>...</td>\n",
       "      <td>...</td>\n",
       "      <td>...</td>\n",
       "    </tr>\n",
       "    <tr>\n",
       "      <th>64060</th>\n",
       "      <td>B2RXH8</td>\n",
       "      <td>B2RXH8</td>\n",
       "      <td>False</td>\n",
       "      <td>False</td>\n",
       "      <td>False</td>\n",
       "      <td>False</td>\n",
       "    </tr>\n",
       "    <tr>\n",
       "      <th>64061</th>\n",
       "      <td>Q8NHW4</td>\n",
       "      <td>Q6IN84</td>\n",
       "      <td>False</td>\n",
       "      <td>False</td>\n",
       "      <td>False</td>\n",
       "      <td>False</td>\n",
       "    </tr>\n",
       "    <tr>\n",
       "      <th>64062</th>\n",
       "      <td>ENSG00000276076</td>\n",
       "      <td>ENSG00000276076</td>\n",
       "      <td>False</td>\n",
       "      <td>False</td>\n",
       "      <td>False</td>\n",
       "      <td>False</td>\n",
       "    </tr>\n",
       "    <tr>\n",
       "      <th>64063</th>\n",
       "      <td>Q9UI36</td>\n",
       "      <td>Q9UI36</td>\n",
       "      <td>False</td>\n",
       "      <td>False</td>\n",
       "      <td>False</td>\n",
       "      <td>False</td>\n",
       "    </tr>\n",
       "    <tr>\n",
       "      <th>64064</th>\n",
       "      <td>ENSG00000280987</td>\n",
       "      <td>ENSG00000280987</td>\n",
       "      <td>False</td>\n",
       "      <td>False</td>\n",
       "      <td>False</td>\n",
       "      <td>False</td>\n",
       "    </tr>\n",
       "  </tbody>\n",
       "</table>\n",
       "<p>64065 rows × 6 columns</p>\n",
       "</div>"
      ],
      "text/plain": [
       "                source           target  is_directed  is_stimulation  \\\n",
       "0               Q9H2S6           Q9NPE6        False           False   \n",
       "1               Q9H2S6           Q9BXK5        False           False   \n",
       "2               Q9H2S6           O60238        False           False   \n",
       "3               Q9H2S6           P20138        False           False   \n",
       "4               Q9H2S6           Q9UM44        False           False   \n",
       "...                ...              ...          ...             ...   \n",
       "64060           B2RXH8           B2RXH8        False           False   \n",
       "64061           Q8NHW4           Q6IN84        False           False   \n",
       "64062  ENSG00000276076  ENSG00000276076        False           False   \n",
       "64063           Q9UI36           Q9UI36        False           False   \n",
       "64064  ENSG00000280987  ENSG00000280987        False           False   \n",
       "\n",
       "       is_inhibition  form_complex  \n",
       "0              False         False  \n",
       "1              False         False  \n",
       "2              False         False  \n",
       "3              False         False  \n",
       "4              False         False  \n",
       "...              ...           ...  \n",
       "64060          False         False  \n",
       "64061          False         False  \n",
       "64062          False         False  \n",
       "64063          False         False  \n",
       "64064          False         False  \n",
       "\n",
       "[64065 rows x 6 columns]"
      ]
     },
     "execution_count": 30,
     "metadata": {},
     "output_type": "execute_result"
    }
   ],
   "source": [
    "resources.interactions"
   ]
  },
  {
   "cell_type": "code",
   "execution_count": 31,
   "id": "248682b9-1652-4c97-ab20-2247e0ff8f65",
   "metadata": {},
   "outputs": [],
   "source": [
    "genes = [\"CD33\", \"TNMD\", \"AMIGO1\"]"
   ]
  },
  {
   "cell_type": "code",
   "execution_count": 32,
   "id": "1412d526-549b-4bf5-aede-02b6d61475ba",
   "metadata": {},
   "outputs": [],
   "source": [
    "new_net1 = Network(genes, resources=resources.interactions)"
   ]
  },
  {
   "cell_type": "code",
   "execution_count": 33,
   "id": "9941ca2a-e7a3-4dfd-9307-1491c987fe31",
   "metadata": {},
   "outputs": [],
   "source": [
    "new_net1.connect_network_radially(max_len=1, only_signed=False, consensus=False)"
   ]
  },
  {
   "cell_type": "code",
   "execution_count": 34,
   "id": "2681f07d-d73d-46da-9f69-bb0db96be6c6",
   "metadata": {},
   "outputs": [
    {
     "data": {
      "image/svg+xml": [
       "<?xml version=\"1.0\" encoding=\"UTF-8\" standalone=\"no\"?>\n",
       "<!DOCTYPE svg PUBLIC \"-//W3C//DTD SVG 1.1//EN\"\n",
       " \"http://www.w3.org/Graphics/SVG/1.1/DTD/svg11.dtd\">\n",
       "<!-- Generated by graphviz version 2.43.0 (0)\n",
       " -->\n",
       "<!-- Title: %3 Pages: 1 -->\n",
       "<svg width=\"462pt\" height=\"260pt\"\n",
       " viewBox=\"0.00 0.00 462.19 260.00\" xmlns=\"http://www.w3.org/2000/svg\" xmlns:xlink=\"http://www.w3.org/1999/xlink\">\n",
       "<g id=\"graph0\" class=\"graph\" transform=\"scale(1 1) rotate(0) translate(4 256)\">\n",
       "<title>%3</title>\n",
       "<polygon fill=\"white\" stroke=\"transparent\" points=\"-4,4 -4,-256 458.19,-256 458.19,4 -4,4\"/>\n",
       "<!-- TNMD -->\n",
       "<g id=\"node1\" class=\"node\">\n",
       "<title>TNMD</title>\n",
       "<ellipse fill=\"lightgray\" stroke=\"black\" cx=\"150.95\" cy=\"-234\" rx=\"40.89\" ry=\"18\"/>\n",
       "<text text-anchor=\"middle\" x=\"150.95\" y=\"-230.3\" font-family=\"Times,serif\" font-size=\"14.00\">TNMD</text>\n",
       "</g>\n",
       "<!-- BNIP3 -->\n",
       "<g id=\"node2\" class=\"node\">\n",
       "<title>BNIP3</title>\n",
       "<ellipse fill=\"lightgray\" stroke=\"black\" cx=\"40.95\" cy=\"-162\" rx=\"40.89\" ry=\"18\"/>\n",
       "<text text-anchor=\"middle\" x=\"40.95\" y=\"-158.3\" font-family=\"Times,serif\" font-size=\"14.00\">BNIP3</text>\n",
       "</g>\n",
       "<!-- TNMD&#45;&gt;BNIP3 -->\n",
       "<g id=\"edge1\" class=\"edge\">\n",
       "<title>TNMD&#45;&gt;BNIP3</title>\n",
       "<path fill=\"none\" stroke=\"black\" d=\"M128.69,-218.83C109.6,-206.69 82.25,-189.28 63.17,-177.14\"/>\n",
       "</g>\n",
       "<!-- AMIGO1 -->\n",
       "<g id=\"node3\" class=\"node\">\n",
       "<title>AMIGO1</title>\n",
       "<ellipse fill=\"lightgray\" stroke=\"black\" cx=\"180.95\" cy=\"-18\" rx=\"50.09\" ry=\"18\"/>\n",
       "<text text-anchor=\"middle\" x=\"180.95\" y=\"-14.3\" font-family=\"Times,serif\" font-size=\"14.00\">AMIGO1</text>\n",
       "</g>\n",
       "<!-- TNMD&#45;&gt;AMIGO1 -->\n",
       "<g id=\"edge2\" class=\"edge\">\n",
       "<title>TNMD&#45;&gt;AMIGO1</title>\n",
       "<path fill=\"none\" stroke=\"black\" d=\"M142.04,-216.35C137.11,-206.17 131.48,-192.7 128.95,-180 125.82,-164.31 125.81,-159.69 128.95,-144 137.09,-103.2 158.83,-59.07 171.47,-35.71\"/>\n",
       "</g>\n",
       "<!-- TMEM79 -->\n",
       "<g id=\"node4\" class=\"node\">\n",
       "<title>TMEM79</title>\n",
       "<ellipse fill=\"lightgray\" stroke=\"black\" cx=\"191.95\" cy=\"-162\" rx=\"53.89\" ry=\"18\"/>\n",
       "<text text-anchor=\"middle\" x=\"191.95\" y=\"-158.3\" font-family=\"Times,serif\" font-size=\"14.00\">TMEM79</text>\n",
       "</g>\n",
       "<!-- TNMD&#45;&gt;TMEM79 -->\n",
       "<g id=\"edge3\" class=\"edge\">\n",
       "<title>TNMD&#45;&gt;TMEM79</title>\n",
       "<path fill=\"none\" stroke=\"black\" d=\"M160.66,-216.41C167.1,-205.41 175.53,-191.03 182.01,-179.96\"/>\n",
       "</g>\n",
       "<!-- CD33 -->\n",
       "<g id=\"node5\" class=\"node\">\n",
       "<title>CD33</title>\n",
       "<ellipse fill=\"lightgray\" stroke=\"black\" cx=\"305.95\" cy=\"-162\" rx=\"36.29\" ry=\"18\"/>\n",
       "<text text-anchor=\"middle\" x=\"305.95\" y=\"-158.3\" font-family=\"Times,serif\" font-size=\"14.00\">CD33</text>\n",
       "</g>\n",
       "<!-- TNMD&#45;&gt;CD33 -->\n",
       "<g id=\"edge4\" class=\"edge\">\n",
       "<title>TNMD&#45;&gt;CD33</title>\n",
       "<path fill=\"none\" stroke=\"black\" d=\"M178.66,-220.49C207.39,-207.51 251.96,-187.38 280.02,-174.71\"/>\n",
       "</g>\n",
       "<!-- BNIP3&#45;&gt;AMIGO1 -->\n",
       "<g id=\"edge9\" class=\"edge\">\n",
       "<title>BNIP3&#45;&gt;AMIGO1</title>\n",
       "<path fill=\"none\" stroke=\"black\" d=\"M48.51,-144C57.66,-124.82 74.54,-93.49 95.95,-72 112.15,-55.74 134.24,-42.15 151.84,-32.81\"/>\n",
       "</g>\n",
       "<!-- TMEM79&#45;&gt;AMIGO1 -->\n",
       "<g id=\"edge8\" class=\"edge\">\n",
       "<title>TMEM79&#45;&gt;AMIGO1</title>\n",
       "<path fill=\"none\" stroke=\"black\" d=\"M181.58,-144.03C176.04,-133.96 169.79,-120.71 166.95,-108 161.37,-83.12 168.57,-53.84 174.54,-35.85\"/>\n",
       "</g>\n",
       "<!-- TTMP -->\n",
       "<g id=\"node6\" class=\"node\">\n",
       "<title>TTMP</title>\n",
       "<ellipse fill=\"lightgray\" stroke=\"black\" cx=\"213.95\" cy=\"-90\" rx=\"38.19\" ry=\"18\"/>\n",
       "<text text-anchor=\"middle\" x=\"213.95\" y=\"-86.3\" font-family=\"Times,serif\" font-size=\"14.00\">TTMP</text>\n",
       "</g>\n",
       "<!-- CD33&#45;&gt;TTMP -->\n",
       "<g id=\"edge5\" class=\"edge\">\n",
       "<title>CD33&#45;&gt;TTMP</title>\n",
       "<path fill=\"none\" stroke=\"black\" d=\"M286.88,-146.5C271.2,-134.56 249.06,-117.72 233.3,-105.73\"/>\n",
       "</g>\n",
       "<!-- RPRM -->\n",
       "<g id=\"node7\" class=\"node\">\n",
       "<title>RPRM</title>\n",
       "<ellipse fill=\"lightgray\" stroke=\"black\" cx=\"310.95\" cy=\"-90\" rx=\"40.09\" ry=\"18\"/>\n",
       "<text text-anchor=\"middle\" x=\"310.95\" y=\"-86.3\" font-family=\"Times,serif\" font-size=\"14.00\">RPRM</text>\n",
       "</g>\n",
       "<!-- CD33&#45;&gt;RPRM -->\n",
       "<g id=\"edge6\" class=\"edge\">\n",
       "<title>CD33&#45;&gt;RPRM</title>\n",
       "<path fill=\"none\" stroke=\"black\" d=\"M307.18,-143.7C307.96,-132.85 308.95,-118.92 309.72,-108.1\"/>\n",
       "</g>\n",
       "<!-- CXCL9 -->\n",
       "<g id=\"node8\" class=\"node\">\n",
       "<title>CXCL9</title>\n",
       "<ellipse fill=\"lightgray\" stroke=\"black\" cx=\"411.95\" cy=\"-90\" rx=\"42.49\" ry=\"18\"/>\n",
       "<text text-anchor=\"middle\" x=\"411.95\" y=\"-86.3\" font-family=\"Times,serif\" font-size=\"14.00\">CXCL9</text>\n",
       "</g>\n",
       "<!-- CD33&#45;&gt;CXCL9 -->\n",
       "<g id=\"edge7\" class=\"edge\">\n",
       "<title>CD33&#45;&gt;CXCL9</title>\n",
       "<path fill=\"none\" stroke=\"black\" d=\"M326.89,-147.17C345.11,-135.14 371.43,-117.76 389.95,-105.52\"/>\n",
       "</g>\n",
       "<!-- TTMP&#45;&gt;AMIGO1 -->\n",
       "<g id=\"edge10\" class=\"edge\">\n",
       "<title>TTMP&#45;&gt;AMIGO1</title>\n",
       "<path fill=\"none\" stroke=\"black\" d=\"M205.96,-72.05C200.77,-61.05 194.03,-46.76 188.86,-35.79\"/>\n",
       "</g>\n",
       "<!-- RPRM&#45;&gt;AMIGO1 -->\n",
       "<g id=\"edge11\" class=\"edge\">\n",
       "<title>RPRM&#45;&gt;AMIGO1</title>\n",
       "<path fill=\"none\" stroke=\"black\" d=\"M286.19,-75.67C263.79,-63.61 230.89,-45.89 207.85,-33.49\"/>\n",
       "</g>\n",
       "<!-- CXCL9&#45;&gt;AMIGO1 -->\n",
       "<g id=\"edge12\" class=\"edge\">\n",
       "<title>CXCL9&#45;&gt;AMIGO1</title>\n",
       "<path fill=\"none\" stroke=\"black\" d=\"M379.54,-78.25C373.06,-76.14 366.29,-73.98 359.95,-72 311.36,-56.87 255.05,-40.36 218.75,-29.86\"/>\n",
       "</g>\n",
       "</g>\n",
       "</svg>\n"
      ],
      "text/plain": [
       "<graphviz.dot.Digraph at 0x7b1b12b75720>"
      ]
     },
     "metadata": {},
     "output_type": "display_data"
    }
   ],
   "source": [
    "visualizer = NetworkVisualizer(new_net1, color_by='effect')\n",
    "visualizer.render()"
   ]
  },
  {
   "cell_type": "code",
   "execution_count": null,
   "id": "279d14a9-4f0f-4d8d-b0ee-397dbf94a8b7",
   "metadata": {},
   "outputs": [],
   "source": []
  }
 ],
 "metadata": {
  "kernelspec": {
   "display_name": "Python 3 (ipykernel)",
   "language": "python",
   "name": "python3"
  },
  "language_info": {
   "codemirror_mode": {
    "name": "ipython",
    "version": 3
   },
   "file_extension": ".py",
   "mimetype": "text/x-python",
   "name": "python",
   "nbconvert_exporter": "python",
   "pygments_lexer": "ipython3",
   "version": "3.10.14"
  }
 },
 "nbformat": 4,
 "nbformat_minor": 5
}
