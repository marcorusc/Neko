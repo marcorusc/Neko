{
 "cells": [
  {
   "cell_type": "markdown",
   "metadata": {},
   "source": [
    "# Exploring Network History in NeKo"
   ]
  },
  {
   "cell_type": "markdown",
   "metadata": {},
   "source": [
    "This notebook demonstrates the new history facilities in NeKo. You will learn how to:\n",
    "\n",
    "- capture network states automatically while you enrich a network\n",
    "- inspect branches and metadata associated with each state\n",
    "- visualise the history graph as both a `networkx` object and an embedded SVG\n",
    "- control the history recorder with context managers and global toggles\n",
    "- prune older history entries using `set_max_history`"
   ]
  },
  {
   "cell_type": "code",
   "execution_count": null,
   "metadata": {},
   "outputs": [],
   "source": [
    "import pandas as pd\n",
    "from IPython.display import display, HTML\n",
    "from neko.core.network import Network"
   ]
  },
  {
   "cell_type": "markdown",
   "metadata": {},
   "source": [
    "## 1. Create a network with sample resources\n",
    "We will use a small Omnipath-like edge set built from Uniprot identifiers."
   ]
  },
  {
   "cell_type": "code",
   "execution_count": null,
   "metadata": {},
   "outputs": [],
   "source": [
    "sample_resources = pd.DataFrame({\n",
    "    \"source\": [\"P31749\", \"Q9Y243\", \"P46087\", \"Q9Y243\", \"P01112\"],\n",
    "    \"target\": [\"P17302\", \"P31749\", \"Q15796\", \"Q9Y6K9\", \"P84022\"],\n",
    "    \"is_directed\": [True, True, True, True, True],\n",
    "    \"is_stimulation\": [True, False, True, False, True],\n",
    "    \"is_inhibition\": [False, True, False, True, False],\n",
    "    \"form_complex\": [False, False, False, False, False],\n",
    "})\n",
    "sample_resources"
   ]
  },
  {
   "cell_type": "code",
   "execution_count": null,
   "metadata": {},
   "outputs": [],
   "source": [
    "net = Network(initial_nodes=[\"P31749\"], resources=sample_resources)\n",
    "net.list_states()"
   ]
  },
  {
   "cell_type": "markdown",
   "metadata": {},
   "source": [
    "## 2. Automatic history capture\n",
    "Every mutating API call creates a new state with metadata describing the operation." 
   ]
  },
  {
   "cell_type": "code",
   "execution_count": null,
   "metadata": {},
   "outputs": [],
   "source": [
    "net.add_node(\"Q9Y243\")\n",
    "net.add_node(\"P46087\")\n",
    "net.list_states()"
   ]
  },
  {
   "cell_type": "markdown",
   "metadata": {},
   "source": [
    "We can compare branches or move around the history using `checkout`, `undo`, and `redo`."
   ]
  },
  {
   "cell_type": "code",
   "execution_count": null,
   "metadata": {},
   "outputs": [],
   "source": [
    "current = net.current_state_id\n",
    "net.undo()\n",
    "previous = net.current_state_id\n",
    "net.redo()\n",
    "current, previous"
   ]
  },
  {
   "cell_type": "markdown",
   "metadata": {},
   "source": [
    "## 3. Visualising the history graph\n",
    "`history_graph()` returns a `networkx` object, while `history_html()` embeds a Graphviz SVG." 
   ]
  },
  {
   "cell_type": "code",
   "execution_count": null,
   "metadata": {},
   "outputs": [],
   "source": [
    "history_nx = net.history_graph()\n",
    "list(history_nx.edges())"
   ]
  },
  {
   "cell_type": "code",
   "execution_count": null,
   "metadata": {},
   "outputs": [],
   "source": [
    "HTML(net.history_html())"
   ]
  },
  {
   "cell_type": "markdown",
   "metadata": {},
   "source": [
    "## 4. Working with branches\n",
    "We can revert to an earlier state, explore an alternative enrichment strategy, and compare the resulting states." 
   ]
  },
  {
   "cell_type": "code",
   "execution_count": null,
   "metadata": {},
   "outputs": [],
   "source": [
    "root_state = net.root_state_id\n",
    "net.checkout(root_state)\n",
    "net.add_node(\"P01112\")\n",
    "branch_state = net.current_state_id\n",
    "diff = net.compare_states(current, branch_state)\n",
    "diff"
   ]
  },
  {
   "cell_type": "markdown",
   "metadata": {},
   "source": [
    "## 5. Suspension and toggles\n",
    "Use `suspend_history()` or `set_history_tracking(False)` to batch changes without recording intermediate states." 
   ]
  },
  {
   "cell_type": "code",
   "execution_count": null,
   "metadata": {},
   "outputs": [],
   "source": [
    "with net.suspend_history():\n",
    "    net.add_node(\"Q9Y243\")  # already present, but no state recorded\n",
    "    net.list_states()[-1]\n"
   ]
  },
  {
   "cell_type": "code",
   "execution_count": null,
   "metadata": {},
   "outputs": [],
   "source": [
    "net.set_history_tracking(False)\n",
    "net.add_node(\"Q15796\")\n",
    "net.set_history_tracking(True)\n",
    "net.list_states()\n"
   ]
  },
  {
   "cell_type": "markdown",
   "metadata": {},
   "source": [
    "## 6. Pruning history\n",
    "`set_max_history()` limits the number of stored states while preserving the root and the latest state." 
   ]
  },
  {
   "cell_type": "code",
   "execution_count": null,
   "metadata": {},
   "outputs": [],
   "source": [
    "net.set_max_history(4)\n",
    "for node in [\"Q9Y6K9\", \"P17302\"]:\n",
    "    if node not in net.nodes[\"Genesymbol\"].tolist():\n",
    "        net.add_node(node)\n",
    "net.list_states()\n"
   ]
  },
  {
   "cell_type": "markdown",
   "metadata": {},
   "source": [
    "When the number of stored states exceeds the limit, older leaf states are pruned automatically. The root and current state remain intact." 
   ]
  },
  {
   "cell_type": "markdown",
   "metadata": {},
   "source": [
    "This concludes the walkthrough of the history API. Experiment by combining these features with your favourite enrichment strategies to analyse multiple hypotheses side by side." 
   ]
  }
 ],
 "metadata": {
  "kernelspec": {
   "display_name": "Python 3",
   "language": "python",
   "name": "python3"
  },
  "language_info": {
   "name": "python",
   "version": "3.10"
  }
 },
 "nbformat": 4,
 "nbformat_minor": 5
}
